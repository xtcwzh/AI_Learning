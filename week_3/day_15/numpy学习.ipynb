{
 "cells": [
  {
   "cell_type": "code",
   "id": "initial_id",
   "metadata": {
    "collapsed": true,
    "ExecuteTime": {
     "end_time": "2025-06-13T15:36:00.474087Z",
     "start_time": "2025-06-13T15:36:00.370801Z"
    }
   },
   "source": [
    "import numpy as np\n",
    "from anaconda_project.internal.conda_api import result\n",
    "from dask.array import maximum, nan_to_num, reshape\n",
    "from mpmath import arange"
   ],
   "outputs": [],
   "execution_count": 1
  },
  {
   "metadata": {
    "ExecuteTime": {
     "end_time": "2025-06-13T15:54:32.838136Z",
     "start_time": "2025-06-13T15:54:32.831156Z"
    }
   },
   "cell_type": "code",
   "source": [
    "list1 = [1,2,3,4]\n",
    "oneArray = np.array(list1)\n",
    "print(type(oneArray))\n",
    "oneArray"
   ],
   "id": "f4426e9b6be835de",
   "outputs": [
    {
     "name": "stdout",
     "output_type": "stream",
     "text": [
      "<class 'numpy.ndarray'>\n"
     ]
    },
    {
     "data": {
      "text/plain": [
       "array([1, 2, 3, 4])"
      ]
     },
     "execution_count": 2,
     "metadata": {},
     "output_type": "execute_result"
    }
   ],
   "execution_count": 2
  },
  {
   "metadata": {
    "ExecuteTime": {
     "end_time": "2025-06-14T14:28:53.148340Z",
     "start_time": "2025-06-14T14:28:53.141429Z"
    }
   },
   "cell_type": "code",
   "source": [
    "oneArray = np.array([1,2,3])\n",
    "print(type(oneArray))\n",
    "print(oneArray)"
   ],
   "id": "ef7eec608cbcffec",
   "outputs": [
    {
     "name": "stdout",
     "output_type": "stream",
     "text": [
      "<class 'numpy.ndarray'>\n",
      "[1 2 3]\n"
     ]
    }
   ],
   "execution_count": 4
  },
  {
   "metadata": {
    "ExecuteTime": {
     "end_time": "2025-06-14T15:20:11.607205Z",
     "start_time": "2025-06-14T15:20:11.603759Z"
    }
   },
   "cell_type": "code",
   "source": [
    "t3 = np.arange(0,10,2)\n",
    "print(t3)\n",
    "print(type(t3))"
   ],
   "id": "a599ba46985b984",
   "outputs": [
    {
     "name": "stdout",
     "output_type": "stream",
     "text": [
      "[0 2 4 6 8]\n",
      "<class 'numpy.ndarray'>\n"
     ]
    }
   ],
   "execution_count": 5
  },
  {
   "metadata": {
    "ExecuteTime": {
     "end_time": "2025-06-14T15:23:00.858263Z",
     "start_time": "2025-06-14T15:23:00.855034Z"
    }
   },
   "cell_type": "code",
   "source": [
    "list2 = [[1,2],[3,4],[5,6]]\n",
    "t4 = np.array(list2)\n",
    "print(t4)\n",
    "print(t4.ndim) #唯度\n",
    "print(t4.shape)\n",
    "print(t4.size)"
   ],
   "id": "dea113e1e7d61dc9",
   "outputs": [
    {
     "name": "stdout",
     "output_type": "stream",
     "text": [
      "[[1 2]\n",
      " [3 4]\n",
      " [5 6]]\n",
      "2\n",
      "(3, 2)\n",
      "6\n"
     ]
    }
   ],
   "execution_count": 7
  },
  {
   "metadata": {
    "ExecuteTime": {
     "end_time": "2025-06-14T16:04:25.284902Z",
     "start_time": "2025-06-14T16:04:25.280441Z"
    }
   },
   "cell_type": "code",
   "source": [
    "t5 = np.array([[1,2,3],[4,5,6]])\n",
    "\n",
    "print(t5)\n",
    "t5.shape = (3,2)\n",
    "print(t5)\n",
    "\n",
    "t5 = np.array([[1,2,3],[4,5,6]])\n",
    "t = t5.reshape(3,2)\n",
    "print(t5)\n",
    "\n",
    "t6 = t5.reshape((6,))\n",
    "print(t6)\n",
    "t6 = t5.reshape((6,),order='F')\n",
    "t6\n",
    "t7 = t5.flatten(order='F')\n",
    "t7"
   ],
   "id": "37eaf1d085a546b7",
   "outputs": [
    {
     "name": "stdout",
     "output_type": "stream",
     "text": [
      "[[1 2 3]\n",
      " [4 5 6]]\n",
      "[[1 2]\n",
      " [3 4]\n",
      " [5 6]]\n",
      "[[1 2 3]\n",
      " [4 5 6]]\n",
      "[1 2 3 4 5 6]\n"
     ]
    },
    {
     "data": {
      "text/plain": [
       "array([1, 4, 2, 5, 3, 6])"
      ]
     },
     "execution_count": 15,
     "metadata": {},
     "output_type": "execute_result"
    }
   ],
   "execution_count": 15
  },
  {
   "metadata": {
    "ExecuteTime": {
     "end_time": "2025-06-14T16:06:49.506942Z",
     "start_time": "2025-06-14T16:06:49.504431Z"
    }
   },
   "cell_type": "code",
   "source": [
    "t8 = np.arange(24)\n",
    "print(t8)\n",
    "t8.shape = (4,6)\n",
    "print(t8)"
   ],
   "id": "7043027d11ff98ad",
   "outputs": [
    {
     "name": "stdout",
     "output_type": "stream",
     "text": [
      "[ 0  1  2  3  4  5  6  7  8  9 10 11 12 13 14 15 16 17 18 19 20 21 22 23]\n",
      "[[ 0  1  2  3  4  5]\n",
      " [ 6  7  8  9 10 11]\n",
      " [12 13 14 15 16 17]\n",
      " [18 19 20 21 22 23]]\n"
     ]
    }
   ],
   "execution_count": 19
  },
  {
   "metadata": {
    "ExecuteTime": {
     "end_time": "2025-06-14T16:07:00.959467Z",
     "start_time": "2025-06-14T16:07:00.956450Z"
    }
   },
   "cell_type": "code",
   "source": [
    "a = t8.tolist()\n",
    "print(type(a))\n",
    "a"
   ],
   "id": "b9110eae0d65f009",
   "outputs": [
    {
     "name": "stdout",
     "output_type": "stream",
     "text": [
      "<class 'list'>\n"
     ]
    },
    {
     "data": {
      "text/plain": [
       "[[0, 1, 2, 3, 4, 5],\n",
       " [6, 7, 8, 9, 10, 11],\n",
       " [12, 13, 14, 15, 16, 17],\n",
       " [18, 19, 20, 21, 22, 23]]"
      ]
     },
     "execution_count": 21,
     "metadata": {},
     "output_type": "execute_result"
    }
   ],
   "execution_count": 21
  },
  {
   "metadata": {
    "ExecuteTime": {
     "end_time": "2025-06-14T16:14:04.491123Z",
     "start_time": "2025-06-14T16:14:04.488378Z"
    }
   },
   "cell_type": "code",
   "source": [
    "import random\n",
    "f = np.array([1,2,3,4,5],dtype=np.int16)\n",
    "print(f.itemsize)\n",
    "print(f)\n",
    "print(f.dtype)\n",
    "f1 = f.astype(np.int64)\n",
    "print(f1.dtype)\n",
    "print(round(random.random(),2)) #生成0-1之间的随机数,保留两位小数\n",
    "arr  = np.array([random.random() for i in range(10)]) #生成10个0-1之间的随机数,保留两位小数,并组成数组\n",
    "print(type(arr))\n",
    "print(arr)\n",
    "print(np.round(arr,2)) #保留两位小数,并返回数组,与round()函数不同,round()函数只对单个数字有效"
   ],
   "id": "d35c7a90c95c16e3",
   "outputs": [
    {
     "name": "stdout",
     "output_type": "stream",
     "text": [
      "2\n",
      "[1 2 3 4 5]\n",
      "int16\n",
      "int64\n",
      "0.88\n",
      "<class 'numpy.ndarray'>\n",
      "[0.78150052 0.38298902 0.02317304 0.84185906 0.7127973  0.31593057\n",
      " 0.20245548 0.0804395  0.16561571 0.68820568]\n",
      "[0.78 0.38 0.02 0.84 0.71 0.32 0.2  0.08 0.17 0.69]\n"
     ]
    }
   ],
   "execution_count": 27
  },
  {
   "metadata": {},
   "cell_type": "markdown",
   "source": "## 数组运算",
   "id": "f0ff8e2a0be95648"
  },
  {
   "metadata": {
    "ExecuteTime": {
     "end_time": "2025-06-14T16:16:29.495921Z",
     "start_time": "2025-06-14T16:16:29.492252Z"
    }
   },
   "cell_type": "code",
   "source": [
    "t9 = np.arange(24).reshape(4,6)\n",
    "print(t9)\n",
    "print(t9+2)\n",
    "print(t9*2)\n",
    "print(t9/2)"
   ],
   "id": "c81ad790d16096b0",
   "outputs": [
    {
     "name": "stdout",
     "output_type": "stream",
     "text": [
      "[[ 0  1  2  3  4  5]\n",
      " [ 6  7  8  9 10 11]\n",
      " [12 13 14 15 16 17]\n",
      " [18 19 20 21 22 23]]\n",
      "[[ 2  3  4  5  6  7]\n",
      " [ 8  9 10 11 12 13]\n",
      " [14 15 16 17 18 19]\n",
      " [20 21 22 23 24 25]]\n",
      "[[ 0  2  4  6  8 10]\n",
      " [12 14 16 18 20 22]\n",
      " [24 26 28 30 32 34]\n",
      " [36 38 40 42 44 46]]\n",
      "[[ 0.   0.5  1.   1.5  2.   2.5]\n",
      " [ 3.   3.5  4.   4.5  5.   5.5]\n",
      " [ 6.   6.5  7.   7.5  8.   8.5]\n",
      " [ 9.   9.5 10.  10.5 11.  11.5]]\n"
     ]
    }
   ],
   "execution_count": 28
  },
  {
   "metadata": {
    "ExecuteTime": {
     "end_time": "2025-06-14T16:17:59.279530Z",
     "start_time": "2025-06-14T16:17:59.274555Z"
    }
   },
   "cell_type": "code",
   "source": [
    "t10 = np.arange(24).reshape(4,6)\n",
    "t11 = np.arange(100,124).reshape(4,6)\n",
    "print(t10 + t11)\n",
    "print(t10 - t11)"
   ],
   "id": "ee70c62a8a9025c2",
   "outputs": [
    {
     "name": "stdout",
     "output_type": "stream",
     "text": [
      "[[100 102 104 106 108 110]\n",
      " [112 114 116 118 120 122]\n",
      " [124 126 128 130 132 134]\n",
      " [136 138 140 142 144 146]]\n",
      "[[-100 -100 -100 -100 -100 -100]\n",
      " [-100 -100 -100 -100 -100 -100]\n",
      " [-100 -100 -100 -100 -100 -100]\n",
      " [-100 -100 -100 -100 -100 -100]]\n"
     ]
    }
   ],
   "execution_count": 29
  },
  {
   "metadata": {
    "ExecuteTime": {
     "end_time": "2025-06-14T16:19:38.918319Z",
     "start_time": "2025-06-14T16:19:38.914976Z"
    }
   },
   "cell_type": "code",
   "source": [
    "a1 = np.arange(24).reshape(4,6)\n",
    "a2 = np.arange(6)\n",
    "print(a1)\n",
    "print(a2)\n",
    "print(a1 + a2)\n",
    "print(a1 * a2)"
   ],
   "id": "38d17c54d2879dc2",
   "outputs": [
    {
     "name": "stdout",
     "output_type": "stream",
     "text": [
      "[[ 0  1  2  3  4  5]\n",
      " [ 6  7  8  9 10 11]\n",
      " [12 13 14 15 16 17]\n",
      " [18 19 20 21 22 23]]\n",
      "[0 1 2 3 4 5]\n",
      "[[ 0  2  4  6  8 10]\n",
      " [ 6  8 10 12 14 16]\n",
      " [12 14 16 18 20 22]\n",
      " [18 20 22 24 26 28]]\n",
      "[[  0   1   4   9  16  25]\n",
      " [  0   7  16  27  40  55]\n",
      " [  0  13  28  45  64  85]\n",
      " [  0  19  40  63  88 115]]\n"
     ]
    }
   ],
   "execution_count": 30
  },
  {
   "metadata": {
    "ExecuteTime": {
     "end_time": "2025-06-14T16:24:32.519656Z",
     "start_time": "2025-06-14T16:24:32.513613Z"
    }
   },
   "cell_type": "code",
   "source": [
    "t1 = np.arange(24).reshape((4,6))\n",
    "t2 = np.arange(4).reshape((4,1))\n",
    "print(t1)\n",
    "print(t2)\n",
    "print(t1 -t2)"
   ],
   "id": "4ccaa67e35b9f9f",
   "outputs": [
    {
     "name": "stdout",
     "output_type": "stream",
     "text": [
      "[[ 0  1  2  3  4  5]\n",
      " [ 6  7  8  9 10 11]\n",
      " [12 13 14 15 16 17]\n",
      " [18 19 20 21 22 23]]\n",
      "[[0]\n",
      " [1]\n",
      " [2]\n",
      " [3]]\n",
      "[[ 0  1  2  3  4  5]\n",
      " [ 5  6  7  8  9 10]\n",
      " [10 11 12 13 14 15]\n",
      " [15 16 17 18 19 20]]\n"
     ]
    }
   ],
   "execution_count": 31
  },
  {
   "metadata": {
    "ExecuteTime": {
     "end_time": "2025-06-15T08:04:25.158188Z",
     "start_time": "2025-06-15T08:04:25.152498Z"
    }
   },
   "cell_type": "code",
   "source": [
    "a = np.array([[1,2,3],[4,5,6]])\n",
    "print(np.sum(a,axis=0))\n",
    "print(np.sum(a,axis=1))"
   ],
   "id": "762fe6f0ccecfd6c",
   "outputs": [
    {
     "name": "stdout",
     "output_type": "stream",
     "text": [
      "[5 7 9]\n",
      "[ 6 15]\n"
     ]
    }
   ],
   "execution_count": 33
  },
  {
   "metadata": {
    "ExecuteTime": {
     "end_time": "2025-06-15T08:12:52.448025Z",
     "start_time": "2025-06-15T08:12:52.445171Z"
    }
   },
   "cell_type": "code",
   "source": [
    "a = np.arange(8)\n",
    "print(a)\n",
    "print(a[2],a)\n",
    "print(a[2:])\n",
    "print(a[:2])"
   ],
   "id": "28b9841fa8009dec",
   "outputs": [
    {
     "name": "stdout",
     "output_type": "stream",
     "text": [
      "[0 1 2 3 4 5 6 7]\n",
      "2 [0 1 2 3 4 5 6 7]\n",
      "[2 3 4 5 6 7]\n",
      "[0 1]\n"
     ]
    }
   ],
   "execution_count": 38
  },
  {
   "metadata": {
    "ExecuteTime": {
     "end_time": "2025-06-15T08:22:09.478803Z",
     "start_time": "2025-06-15T08:22:09.475207Z"
    }
   },
   "cell_type": "code",
   "source": [
    "a = np.arange(24).reshape(4,6)\n",
    "print(a[1],a)\n",
    "print('-'*20)\n",
    "print(a[1,:],'\\n','-'*20,'\\n',a[1:3])\n",
    "print(a[0:3])\n",
    "print(a[:,1])\n",
    "print(a[0,3])"
   ],
   "id": "956da14003177b00",
   "outputs": [
    {
     "name": "stdout",
     "output_type": "stream",
     "text": [
      "[ 6  7  8  9 10 11] [[ 0  1  2  3  4  5]\n",
      " [ 6  7  8  9 10 11]\n",
      " [12 13 14 15 16 17]\n",
      " [18 19 20 21 22 23]]\n",
      "--------------------\n",
      "[ 6  7  8  9 10 11] \n",
      " -------------------- \n",
      " [[ 6  7  8  9 10 11]\n",
      " [12 13 14 15 16 17]]\n",
      "[[ 0  1  2  3  4  5]\n",
      " [ 6  7  8  9 10 11]\n",
      " [12 13 14 15 16 17]]\n",
      "[ 1  7 13 19]\n",
      "3\n"
     ]
    }
   ],
   "execution_count": 64
  },
  {
   "metadata": {
    "ExecuteTime": {
     "end_time": "2025-06-15T08:23:35.984188Z",
     "start_time": "2025-06-15T08:23:35.981143Z"
    }
   },
   "cell_type": "code",
   "source": [
    "t = np.arange(24).reshape(4,6)\n",
    "print(t)\n",
    "t[1,:] = 0\n",
    "print(t)\n",
    "t[1:3,:] = 0\n",
    "print(t)\n",
    "t[1:] = 0\n",
    "print(t)"
   ],
   "id": "4e92dbe75f0edb73",
   "outputs": [
    {
     "name": "stdout",
     "output_type": "stream",
     "text": [
      "[[ 0  1  2  3  4  5]\n",
      " [ 6  7  8  9 10 11]\n",
      " [12 13 14 15 16 17]\n",
      " [18 19 20 21 22 23]]\n",
      "[[ 0  1  2  3  4  5]\n",
      " [ 0  0  0  0  0  0]\n",
      " [12 13 14 15 16 17]\n",
      " [18 19 20 21 22 23]]\n",
      "[[ 0  1  2  3  4  5]\n",
      " [ 0  0  0  0  0  0]\n",
      " [ 0  0  0  0  0  0]\n",
      " [18 19 20 21 22 23]]\n",
      "[[0 1 2 3 4 5]\n",
      " [0 0 0 0 0 0]\n",
      " [0 0 0 0 0 0]\n",
      " [0 0 0 0 0 0]]\n"
     ]
    }
   ],
   "execution_count": 68
  },
  {
   "metadata": {
    "ExecuteTime": {
     "end_time": "2025-06-15T08:30:39.278045Z",
     "start_time": "2025-06-15T08:30:39.274787Z"
    }
   },
   "cell_type": "code",
   "source": [
    "t = np.arange(24).reshape(4,6)\n",
    "t[:,1] = 0\n",
    "print(t)\n",
    "t[:,1:3] = 0\n",
    "print(t)"
   ],
   "id": "d622be19a4b005aa",
   "outputs": [
    {
     "name": "stdout",
     "output_type": "stream",
     "text": [
      "[[ 0  0  2  3  4  5]\n",
      " [ 6  0  8  9 10 11]\n",
      " [12  0 14 15 16 17]\n",
      " [18  0 20 21 22 23]]\n",
      "[[ 0  0  0  3  4  5]\n",
      " [ 6  0  0  9 10 11]\n",
      " [12  0  0 15 16 17]\n",
      " [18  0  0 21 22 23]]\n"
     ]
    }
   ],
   "execution_count": 75
  },
  {
   "metadata": {
    "ExecuteTime": {
     "end_time": "2025-06-15T08:32:00.473757Z",
     "start_time": "2025-06-15T08:32:00.470854Z"
    }
   },
   "cell_type": "code",
   "source": [
    "t = np.arange(24).reshape(4,6)\n",
    "t[(t < 7) & (t  > 2)]  = 0\n",
    "print(t)\n",
    "t[t > 2] = 0\n",
    "print(t)"
   ],
   "id": "c222d419a088ee52",
   "outputs": [
    {
     "name": "stdout",
     "output_type": "stream",
     "text": [
      "[[ 0  1  2  0  0  0]\n",
      " [ 0  7  8  9 10 11]\n",
      " [12 13 14 15 16 17]\n",
      " [18 19 20 21 22 23]]\n",
      "[[0 1 2 0 0 0]\n",
      " [0 0 0 0 0 0]\n",
      " [0 0 0 0 0 0]\n",
      " [0 0 0 0 0 0]]\n"
     ]
    }
   ],
   "execution_count": 78
  },
  {
   "metadata": {
    "ExecuteTime": {
     "end_time": "2025-06-15T08:35:46.029728Z",
     "start_time": "2025-06-15T08:35:46.026560Z"
    }
   },
   "cell_type": "code",
   "source": [
    "score = np.array([[80,81],[75,87],[90,68]])\n",
    "result = np.where(score > 80 , True, False)\n",
    "print(result)"
   ],
   "id": "6c7d31dc89593892",
   "outputs": [
    {
     "name": "stdout",
     "output_type": "stream",
     "text": [
      "[[False  True]\n",
      " [False  True]\n",
      " [ True False]]\n"
     ]
    }
   ],
   "execution_count": 82
  },
  {
   "metadata": {
    "ExecuteTime": {
     "end_time": "2025-06-15T08:37:36.530654Z",
     "start_time": "2025-06-15T08:37:36.528194Z"
    }
   },
   "cell_type": "code",
   "source": [
    "t = np.arange(24).reshape(4,6)\n",
    "t.clip(10,18)\n",
    "t\n",
    "print(t.clip(10,18))"
   ],
   "id": "734cb7da1419f036",
   "outputs": [
    {
     "name": "stdout",
     "output_type": "stream",
     "text": [
      "[[10 10 10 10 10 10]\n",
      " [10 10 10 10 10 11]\n",
      " [12 13 14 15 16 17]\n",
      " [18 18 18 18 18 18]]\n"
     ]
    }
   ],
   "execution_count": 85
  },
  {
   "metadata": {
    "ExecuteTime": {
     "end_time": "2025-06-15T09:03:17.230445Z",
     "start_time": "2025-06-15T09:03:17.227221Z"
    }
   },
   "cell_type": "code",
   "source": [
    "a = np.array([[1, 2, 3], [4, 5, 6]])\n",
    "print(a)\n",
    "print(np.append(a,[7,8,9]).shape)\n",
    "print(a.shape)\n",
    "print(np.append(a,[[7,8,9]],axis=0))\n",
    "print(np.append(a, [[5, 5, 5], [7, 8, 9]], axis=1))"
   ],
   "id": "613241e5610624d7",
   "outputs": [
    {
     "name": "stdout",
     "output_type": "stream",
     "text": [
      "[[1 2 3]\n",
      " [4 5 6]]\n",
      "(9,)\n",
      "(2, 3)\n",
      "[[1 2 3]\n",
      " [4 5 6]\n",
      " [7 8 9]]\n",
      "[[1 2 3 5 5 5]\n",
      " [4 5 6 7 8 9]]\n"
     ]
    }
   ],
   "execution_count": 92
  },
  {
   "metadata": {
    "ExecuteTime": {
     "end_time": "2025-06-15T09:06:08.169209Z",
     "start_time": "2025-06-15T09:06:08.165639Z"
    }
   },
   "cell_type": "code",
   "source": [
    "a = np.array([[1, 2], [3, 4], [5, 6]])\n",
    "print(np.insert(a,3,[11,12]))\n",
    "print(np.insert(a,1,11,axis=0))\n",
    "print(np.insert(a,1,11,axis=1))"
   ],
   "id": "1ca0987458dea1d7",
   "outputs": [
    {
     "name": "stdout",
     "output_type": "stream",
     "text": [
      "[ 1  2  3 11 12  4  5  6]\n",
      "[[ 1  2]\n",
      " [11 11]\n",
      " [ 3  4]\n",
      " [ 5  6]]\n",
      "[[ 1 11  2]\n",
      " [ 3 11  4]\n",
      " [ 5 11  6]]\n"
     ]
    }
   ],
   "execution_count": 97
  },
  {
   "metadata": {
    "ExecuteTime": {
     "end_time": "2025-06-15T09:08:11.613177Z",
     "start_time": "2025-06-15T09:08:11.610612Z"
    }
   },
   "cell_type": "code",
   "source": [
    "a = np.arange(12).reshape(3,4)\n",
    "print(np.delete(a,5))\n",
    "print(np.delete(a,1,axis=1))\n"
   ],
   "id": "b5743ee328e33464",
   "outputs": [
    {
     "name": "stdout",
     "output_type": "stream",
     "text": [
      "[ 0  1  2  3  4  6  7  8  9 10 11]\n",
      "[[ 0  2  3]\n",
      " [ 4  6  7]\n",
      " [ 8 10 11]]\n"
     ]
    }
   ],
   "execution_count": 99
  },
  {
   "metadata": {
    "ExecuteTime": {
     "end_time": "2025-06-15T09:37:11.925455Z",
     "start_time": "2025-06-15T09:37:11.921915Z"
    }
   },
   "cell_type": "code",
   "source": [
    "a = np.array([5,2,6,2,7,5,6,8,2,9])\n",
    "print(a)\n",
    "u = np.unique(a)\n",
    "print(u)\n",
    "u,indexs = np.unique(a,return_index=True)\n",
    "print(indexs)\n",
    "u,num = np.unique(a,return_counts=True)\n",
    "print(num)"
   ],
   "id": "cda22ea6c0139089",
   "outputs": [
    {
     "name": "stdout",
     "output_type": "stream",
     "text": [
      "[5 2 6 2 7 5 6 8 2 9]\n",
      "[2 5 6 7 8 9]\n",
      "[1 0 2 4 7 9]\n",
      "[3 2 2 1 1 1]\n"
     ]
    }
   ],
   "execution_count": 103
  },
  {
   "metadata": {
    "ExecuteTime": {
     "end_time": "2025-06-15T09:41:05.002764Z",
     "start_time": "2025-06-15T09:41:04.999023Z"
    }
   },
   "cell_type": "code",
   "source": [
    "score = np.array([[80,88],[82,81],[75,81]])\n",
    "print(np.max(score))\n",
    "print(np.max(score,axis=1))\n",
    "result = np.maximum([-2, -1, 0, 1, 2], 0)\n",
    "print(result)\n",
    "result = np.minimum([-2, -1, 0, 1, 2], 0)\n",
    "print(result)\n",
    "result = np.maximum( [-2, -1, 0, 1, 2], [1, 2, 3, 4, 5] )\n",
    "print(result)\n",
    "print(np.mean(score))\n",
    "print(np.mean(score,axis=1))\n"
   ],
   "id": "47ab12a550764321",
   "outputs": [
    {
     "name": "stdout",
     "output_type": "stream",
     "text": [
      "88\n",
      "[88 82 81]\n",
      "[0 0 0 1 2]\n",
      "[-2 -1  0  0  0]\n",
      "[1 2 3 4 5]\n",
      "81.16666666666667\n",
      "[84.  81.5 78. ]\n"
     ]
    }
   ],
   "execution_count": 112
  },
  {
   "metadata": {
    "ExecuteTime": {
     "end_time": "2025-06-15T09:47:18.397984Z",
     "start_time": "2025-06-15T09:47:18.392427Z"
    }
   },
   "cell_type": "code",
   "source": [
    "arr = np.array([[1,2,3], [4,5,6]])\n",
    "print(arr)\n",
    "print(arr.cumsum(0))\n",
    "print(arr.cumsum(1))\n",
    "result = np.argmax(arr,axis=0)\n",
    "res  = np.min(arr,axis=0)\n",
    "print(result,res)"
   ],
   "id": "a95b9659c13738f0",
   "outputs": [
    {
     "name": "stdout",
     "output_type": "stream",
     "text": [
      "[[1 2 3]\n",
      " [4 5 6]]\n",
      "[[1 2 3]\n",
      " [5 7 9]]\n",
      "[[ 1  3  6]\n",
      " [ 4  9 15]]\n",
      "[1 1 1] [1 2 3]\n"
     ]
    }
   ],
   "execution_count": 126
  },
  {
   "metadata": {
    "ExecuteTime": {
     "end_time": "2025-06-15T09:48:29.318821Z",
     "start_time": "2025-06-15T09:48:29.316058Z"
    }
   },
   "cell_type": "code",
   "source": [
    "result = np.std(arr,axis=1) #计算标准差\n",
    "print(result)"
   ],
   "id": "af39d9f2fc231d77",
   "outputs": [
    {
     "name": "stdout",
     "output_type": "stream",
     "text": [
      "[0.81649658 0.81649658]\n"
     ]
    }
   ],
   "execution_count": 128
  },
  {
   "metadata": {
    "ExecuteTime": {
     "end_time": "2025-06-15T09:49:07.388941Z",
     "start_time": "2025-06-15T09:49:07.386015Z"
    }
   },
   "cell_type": "code",
   "source": [
    "result = np.ptp(score) # 最大值与最小值的差\n",
    "print(result)"
   ],
   "id": "522f277055e9328",
   "outputs": [
    {
     "name": "stdout",
     "output_type": "stream",
     "text": [
      "13\n"
     ]
    }
   ],
   "execution_count": 129
  },
  {
   "metadata": {
    "ExecuteTime": {
     "end_time": "2025-06-15T09:53:25.966485Z",
     "start_time": "2025-06-15T09:53:25.962985Z"
    }
   },
   "cell_type": "code",
   "source": [
    "a = np.array([[1,2],[3,4]])\n",
    "b = np.array([[5,6],[7,8]])\n",
    "print(np.concatenate((a,b)))\n",
    "print(np.concatenate((a,b),axis=0))\n",
    "print(np.concatenate((a,b),axis=1))\n",
    "print(np.stack((a,b),axis=0))\n",
    "print(np.shape(np.stack((a,b),axis=0)))\n",
    "print(np.stack((a,b),axis=1))\n",
    "print(np.shape(np.stack((a,b),axis=1)))\n"
   ],
   "id": "d6c8b4c1e110ccf8",
   "outputs": [
    {
     "name": "stdout",
     "output_type": "stream",
     "text": [
      "[[1 2]\n",
      " [3 4]\n",
      " [5 6]\n",
      " [7 8]]\n",
      "[[1 2]\n",
      " [3 4]\n",
      " [5 6]\n",
      " [7 8]]\n",
      "[[1 2 5 6]\n",
      " [3 4 7 8]]\n",
      "[[[1 2]\n",
      "  [3 4]]\n",
      "\n",
      " [[5 6]\n",
      "  [7 8]]]\n",
      "(2, 2, 2)\n",
      "[[[1 2]\n",
      "  [5 6]]\n",
      "\n",
      " [[3 4]\n",
      "  [7 8]]]\n",
      "(2, 2, 2)\n"
     ]
    }
   ],
   "execution_count": 138
  },
  {
   "metadata": {
    "ExecuteTime": {
     "end_time": "2025-06-15T09:54:31.915286Z",
     "start_time": "2025-06-15T09:54:31.911946Z"
    }
   },
   "cell_type": "code",
   "source": [
    "v1 = [[0,1,2,3,4,5],\n",
    "[6,7,8,9,10,11]]\n",
    "v2 = [[12,13,14,15,16,17],\n",
    "[18,19,20,21,22,23]]\n",
    "print(np.vstack((v1,v2))) #垂直堆叠\n",
    "print(np.hstack((v1,v2))) #水平堆叠"
   ],
   "id": "46754688b556b45",
   "outputs": [
    {
     "name": "stdout",
     "output_type": "stream",
     "text": [
      "[[ 0  1  2  3  4  5]\n",
      " [ 6  7  8  9 10 11]\n",
      " [12 13 14 15 16 17]\n",
      " [18 19 20 21 22 23]]\n",
      "[[ 0  1  2  3  4  5 12 13 14 15 16 17]\n",
      " [ 6  7  8  9 10 11 18 19 20 21 22 23]]\n"
     ]
    }
   ],
   "execution_count": 140
  },
  {
   "metadata": {
    "ExecuteTime": {
     "end_time": "2025-06-15T09:56:10.599656Z",
     "start_time": "2025-06-15T09:56:10.596734Z"
    }
   },
   "cell_type": "code",
   "source": [
    "arr = np.arange(9).reshape(3,3)\n",
    "print ('将数组分为三个大小相等的子数组：')\n",
    "b = np.split(arr,3)\n",
    "print(b)\n"
   ],
   "id": "613c932cf6a0a34d",
   "outputs": [
    {
     "name": "stdout",
     "output_type": "stream",
     "text": [
      "将数组分为三个大小相等的子数组：\n",
      "[array([[0, 1, 2]]), array([[3, 4, 5]]), array([[6, 7, 8]])]\n"
     ]
    }
   ],
   "execution_count": 141
  },
  {
   "metadata": {
    "ExecuteTime": {
     "end_time": "2025-06-15T10:38:27.507929Z",
     "start_time": "2025-06-15T10:38:27.504272Z"
    }
   },
   "cell_type": "code",
   "source": [
    "harr = np.floor(10*np.random.random((2, 6))) #生成一个 2 行 6 列的二维数组,这些随机浮点数的范围是 [0.0, 1.0)\n",
    "print(harr)\n",
    "print(np.hsplit(harr,3))\n",
    "print(np.vsplit(harr,2))"
   ],
   "id": "b369810dc97e6e14",
   "outputs": [
    {
     "name": "stdout",
     "output_type": "stream",
     "text": [
      "[[4. 4. 0. 4. 0. 8.]\n",
      " [7. 4. 7. 0. 8. 0.]]\n",
      "[array([[4., 4.],\n",
      "       [7., 4.]]), array([[0., 4.],\n",
      "       [7., 0.]]), array([[0., 8.],\n",
      "       [8., 0.]])]\n",
      "[array([[4., 4., 0., 4., 0., 8.]]), array([[7., 4., 7., 0., 8., 0.]])]\n"
     ]
    }
   ],
   "execution_count": 144
  },
  {
   "metadata": {
    "ExecuteTime": {
     "end_time": "2025-06-15T10:40:50.898061Z",
     "start_time": "2025-06-15T10:40:50.894723Z"
    }
   },
   "cell_type": "code",
   "source": [
    "a = np.nan\n",
    "b = np.inf\n",
    "print(a,type(a))\n",
    "print(b,type(b))\n",
    "t = np.arange(24,dtype=float).reshape(4,6)\n",
    "t[3,4] = np.nan\n",
    "print(t)\n",
    "print(np.count_nonzero(t))\n",
    "print(np.count_nonzero(t!=t))\n",
    "t[np.isnan(t)] = 0\n",
    "print(t)"
   ],
   "id": "2fac92acc00b6a82",
   "outputs": [
    {
     "name": "stdout",
     "output_type": "stream",
     "text": [
      "nan <class 'float'>\n",
      "inf <class 'float'>\n",
      "[[ 0.  1.  2.  3.  4.  5.]\n",
      " [ 6.  7.  8.  9. 10. 11.]\n",
      " [12. 13. 14. 15. 16. 17.]\n",
      " [18. 19. 20. 21. nan 23.]]\n",
      "23\n",
      "1\n",
      "[[ 0.  1.  2.  3.  4.  5.]\n",
      " [ 6.  7.  8.  9. 10. 11.]\n",
      " [12. 13. 14. 15. 16. 17.]\n",
      " [18. 19. 20. 21.  0. 23.]]\n"
     ]
    }
   ],
   "execution_count": 149
  },
  {
   "metadata": {
    "ExecuteTime": {
     "end_time": "2025-06-15T10:49:16.059123Z",
     "start_time": "2025-06-15T10:49:16.054472Z"
    }
   },
   "cell_type": "code",
   "source": [
    "# t = np.arange(24).reshape(4,6).astype(float)\n",
    "# print(t)\n",
    "t = np.arange(24).reshape(4,6).astype('float')#单引号加不加没有影响\n",
    "print(t)\n",
    "t[1,3:] = np.nan\n",
    "print(t)\n",
    "for i in range(t.shape[1]): #t.shape[1] 取得形状元组的第二个元素，即列数，这里是 6，循环是一个0～5的序列\n",
    "    temp_col = t[:,i] #一个数组\n",
    "    nan_num = np.count_nonzero(temp_col != temp_col)\n",
    "    if nan_num != 0:\n",
    "        temp_col_not_nan = temp_col[temp_col == temp_col] #一个只包含原始列中非 NaN 值的数组。\n",
    "        temp_col[np.isnan(temp_col)] = np.mean(temp_col_not_nan)\n",
    "t"
   ],
   "id": "90bb5030aff537a0",
   "outputs": [
    {
     "name": "stdout",
     "output_type": "stream",
     "text": [
      "[[ 0.  1.  2.  3.  4.  5.]\n",
      " [ 6.  7.  8.  9. 10. 11.]\n",
      " [12. 13. 14. 15. 16. 17.]\n",
      " [18. 19. 20. 21. 22. 23.]]\n",
      "[[ 0.  1.  2.  3.  4.  5.]\n",
      " [ 6.  7.  8. nan nan nan]\n",
      " [12. 13. 14. 15. 16. 17.]\n",
      " [18. 19. 20. 21. 22. 23.]]\n"
     ]
    },
    {
     "data": {
      "text/plain": [
       "array([[ 0.,  1.,  2.,  3.,  4.,  5.],\n",
       "       [ 6.,  7.,  8., 13., 14., 15.],\n",
       "       [12., 13., 14., 15., 16., 17.],\n",
       "       [18., 19., 20., 21., 22., 23.]])"
      ]
     },
     "execution_count": 157,
     "metadata": {},
     "output_type": "execute_result"
    }
   ],
   "execution_count": 157
  },
  {
   "metadata": {
    "ExecuteTime": {
     "end_time": "2025-06-15T11:00:59.634682Z",
     "start_time": "2025-06-15T11:00:59.630993Z"
    }
   },
   "cell_type": "code",
   "source": [
    "a = np.arange(12).reshape(3,4)\n",
    "print(a)\n",
    "print (np.transpose(a)) #转置\n",
    "print(a.T)\n",
    "print(a.swapaxes(1,0))\n",
    "t = np.arange(27).reshape(3,3,3)\n",
    "print(t)\n",
    "t=np.rollaxis(t,2,0)\n",
    "print(t)\n",
    "print(t.shape)"
   ],
   "id": "7b5c410e805ba9d2",
   "outputs": [
    {
     "name": "stdout",
     "output_type": "stream",
     "text": [
      "[[ 0  1  2  3]\n",
      " [ 4  5  6  7]\n",
      " [ 8  9 10 11]]\n",
      "[[ 0  4  8]\n",
      " [ 1  5  9]\n",
      " [ 2  6 10]\n",
      " [ 3  7 11]]\n",
      "[[ 0  4  8]\n",
      " [ 1  5  9]\n",
      " [ 2  6 10]\n",
      " [ 3  7 11]]\n",
      "[[ 0  4  8]\n",
      " [ 1  5  9]\n",
      " [ 2  6 10]\n",
      " [ 3  7 11]]\n",
      "[[[ 0  1  2]\n",
      "  [ 3  4  5]\n",
      "  [ 6  7  8]]\n",
      "\n",
      " [[ 9 10 11]\n",
      "  [12 13 14]\n",
      "  [15 16 17]]\n",
      "\n",
      " [[18 19 20]\n",
      "  [21 22 23]\n",
      "  [24 25 26]]]\n",
      "[[[ 0  3  6]\n",
      "  [ 9 12 15]\n",
      "  [18 21 24]]\n",
      "\n",
      " [[ 1  4  7]\n",
      "  [10 13 16]\n",
      "  [19 22 25]]\n",
      "\n",
      " [[ 2  5  8]\n",
      "  [11 14 17]\n",
      "  [20 23 26]]]\n",
      "(3, 3, 3)\n"
     ]
    }
   ],
   "execution_count": 166
  }
 ],
 "metadata": {
  "kernelspec": {
   "display_name": "Python 3",
   "language": "python",
   "name": "python3"
  },
  "language_info": {
   "codemirror_mode": {
    "name": "ipython",
    "version": 2
   },
   "file_extension": ".py",
   "mimetype": "text/x-python",
   "name": "python",
   "nbconvert_exporter": "python",
   "pygments_lexer": "ipython2",
   "version": "2.7.6"
  }
 },
 "nbformat": 4,
 "nbformat_minor": 5
}
