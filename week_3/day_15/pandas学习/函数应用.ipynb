{
 "cells": [
  {
   "cell_type": "code",
   "id": "initial_id",
   "metadata": {
    "collapsed": true,
    "ExecuteTime": {
     "end_time": "2025-06-15T18:27:09.843487Z",
     "start_time": "2025-06-15T18:27:09.297675Z"
    }
   },
   "source": [
    "import numpy as np\n",
    "import pandas as pd"
   ],
   "outputs": [],
   "execution_count": 1
  },
  {
   "metadata": {
    "ExecuteTime": {
     "end_time": "2025-06-15T18:28:23.428736Z",
     "start_time": "2025-06-15T18:28:23.417159Z"
    }
   },
   "cell_type": "code",
   "source": [
    "df = pd.DataFrame(np.random.randn(5,4) - 1)\n",
    "print(df)\n",
    "print(np.abs(df))"
   ],
   "id": "a21a1da33cd22e10",
   "outputs": [
    {
     "name": "stdout",
     "output_type": "stream",
     "text": [
      "          0         1         2         3\n",
      "0 -0.103167 -0.189927 -0.665721  0.332169\n",
      "1 -0.460681  0.317804 -2.050705  0.779053\n",
      "2 -0.396406  0.118748 -2.595647  1.203591\n",
      "3 -1.644746 -2.489067 -0.824891 -2.032647\n",
      "4 -0.122310 -0.027119 -0.445314 -0.383644\n",
      "          0         1         2         3\n",
      "0  0.103167  0.189927  0.665721  0.332169\n",
      "1  0.460681  0.317804  2.050705  0.779053\n",
      "2  0.396406  0.118748  2.595647  1.203591\n",
      "3  1.644746  2.489067  0.824891  2.032647\n",
      "4  0.122310  0.027119  0.445314  0.383644\n"
     ]
    }
   ],
   "execution_count": 2
  },
  {
   "metadata": {
    "ExecuteTime": {
     "end_time": "2025-06-15T18:29:26.781378Z",
     "start_time": "2025-06-15T18:29:26.775066Z"
    }
   },
   "cell_type": "code",
   "source": [
    "print(df.apply(lambda x : x.max()))\n",
    "print(df.apply(lambda x : x.max(), axis=1))"
   ],
   "id": "3c49c85e7373974b",
   "outputs": [
    {
     "name": "stdout",
     "output_type": "stream",
     "text": [
      "0   -0.103167\n",
      "1    0.317804\n",
      "2   -0.445314\n",
      "3    1.203591\n",
      "dtype: float64\n",
      "0    0.332169\n",
      "1    0.779053\n",
      "2    1.203591\n",
      "3   -0.824891\n",
      "4   -0.027119\n",
      "dtype: float64\n"
     ]
    }
   ],
   "execution_count": 4
  },
  {
   "metadata": {
    "ExecuteTime": {
     "end_time": "2025-06-15T18:29:47.071628Z",
     "start_time": "2025-06-15T18:29:47.064684Z"
    }
   },
   "cell_type": "code",
   "source": [
    "f2 = lambda x : '%.2f' % x\n",
    "print(df.map(f2))"
   ],
   "id": "74eea7447002534f",
   "outputs": [
    {
     "name": "stdout",
     "output_type": "stream",
     "text": [
      "       0      1      2      3\n",
      "0  -0.10  -0.19  -0.67   0.33\n",
      "1  -0.46   0.32  -2.05   0.78\n",
      "2  -0.40   0.12  -2.60   1.20\n",
      "3  -1.64  -2.49  -0.82  -2.03\n",
      "4  -0.12  -0.03  -0.45  -0.38\n"
     ]
    }
   ],
   "execution_count": 5
  }
 ],
 "metadata": {
  "kernelspec": {
   "display_name": "Python 3",
   "language": "python",
   "name": "python3"
  },
  "language_info": {
   "codemirror_mode": {
    "name": "ipython",
    "version": 2
   },
   "file_extension": ".py",
   "mimetype": "text/x-python",
   "name": "python",
   "nbconvert_exporter": "python",
   "pygments_lexer": "ipython2",
   "version": "2.7.6"
  }
 },
 "nbformat": 4,
 "nbformat_minor": 5
}
