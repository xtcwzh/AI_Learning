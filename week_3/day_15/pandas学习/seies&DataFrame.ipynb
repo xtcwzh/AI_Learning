{
 "cells": [
  {
   "cell_type": "code",
   "id": "initial_id",
   "metadata": {
    "collapsed": true,
    "ExecuteTime": {
     "end_time": "2025-06-15T17:52:26.076862Z",
     "start_time": "2025-06-15T17:52:26.070316Z"
    }
   },
   "source": [
    "import pandas as pd\n",
    "s1 = pd.Series(range(10,20))\n",
    "print(s1)\n",
    "print(s1.head(3))\n",
    "print(s1.values)\n",
    "print(s1.index)\n",
    "print(s1[4])"
   ],
   "outputs": [
    {
     "name": "stdout",
     "output_type": "stream",
     "text": [
      "0    10\n",
      "1    11\n",
      "2    12\n",
      "3    13\n",
      "4    14\n",
      "5    15\n",
      "6    16\n",
      "7    17\n",
      "8    18\n",
      "9    19\n",
      "dtype: int64\n",
      "0    10\n",
      "1    11\n",
      "2    12\n",
      "dtype: int64\n",
      "[10 11 12 13 14 15 16 17 18 19]\n",
      "RangeIndex(start=0, stop=10, step=1)\n",
      "14\n"
     ]
    }
   ],
   "execution_count": 5
  },
  {
   "metadata": {
    "ExecuteTime": {
     "end_time": "2025-06-15T17:52:36.696330Z",
     "start_time": "2025-06-15T17:52:36.692599Z"
    }
   },
   "cell_type": "code",
   "source": "print(s1 * 2)",
   "id": "9b5848efbbaf2958",
   "outputs": [
    {
     "name": "stdout",
     "output_type": "stream",
     "text": [
      "0    20\n",
      "1    22\n",
      "2    24\n",
      "3    26\n",
      "4    28\n",
      "5    30\n",
      "6    32\n",
      "7    34\n",
      "8    36\n",
      "9    38\n",
      "dtype: int64\n"
     ]
    }
   ],
   "execution_count": 6
  },
  {
   "metadata": {
    "ExecuteTime": {
     "end_time": "2025-06-15T17:54:45.590546Z",
     "start_time": "2025-06-15T17:54:45.584576Z"
    }
   },
   "cell_type": "code",
   "source": [
    "year_data = {2001: 17.8, 2002: 20.1, 2003: 16.5}\n",
    "s2 = pd.Series(year_data)\n",
    "s2.name = 'temp'\n",
    "s2.index.name = 'year'\n",
    "print(s2)\n",
    "s2"
   ],
   "id": "4872f05294fffdc7",
   "outputs": [
    {
     "name": "stdout",
     "output_type": "stream",
     "text": [
      "year\n",
      "2001    17.8\n",
      "2002    20.1\n",
      "2003    16.5\n",
      "Name: temp, dtype: float64\n"
     ]
    },
    {
     "data": {
      "text/plain": [
       "year\n",
       "2001    17.8\n",
       "2002    20.1\n",
       "2003    16.5\n",
       "Name: temp, dtype: float64"
      ]
     },
     "execution_count": 12,
     "metadata": {},
     "output_type": "execute_result"
    }
   ],
   "execution_count": 12
  },
  {
   "metadata": {
    "ExecuteTime": {
     "end_time": "2025-06-15T18:02:11.671663Z",
     "start_time": "2025-06-15T18:02:11.665675Z"
    }
   },
   "cell_type": "code",
   "source": [
    "import numpy as np\n",
    "d1 = pd.DataFrame(np.arange(10,34).reshape(4,6))\n",
    "d2 = pd.DataFrame(np.random.randn(5,4))\n",
    "print(d1)\n",
    "print(d2)\n",
    "print(d2.head(1))\n"
   ],
   "id": "7dd2519de94de227",
   "outputs": [
    {
     "name": "stdout",
     "output_type": "stream",
     "text": [
      "    0   1   2   3   4   5\n",
      "0  10  11  12  13  14  15\n",
      "1  16  17  18  19  20  21\n",
      "2  22  23  24  25  26  27\n",
      "3  28  29  30  31  32  33\n",
      "          0         1         2         3\n",
      "0 -0.221934  0.478592 -0.072053 -0.476050\n",
      "1  0.716200  1.784279  0.243433 -0.402355\n",
      "2  0.879087  2.187607  1.869882  1.161533\n",
      "3  0.228203 -0.244911 -0.604732  0.409092\n",
      "4 -0.191863  1.053943 -1.031274  0.697705\n",
      "          0         1         2        3\n",
      "0 -0.221934  0.478592 -0.072053 -0.47605\n"
     ]
    }
   ],
   "execution_count": 19
  },
  {
   "metadata": {
    "ExecuteTime": {
     "end_time": "2025-06-15T18:11:31.899181Z",
     "start_time": "2025-06-15T18:11:31.891979Z"
    }
   },
   "cell_type": "code",
   "source": [
    "dict_data = {'A': 1,'B': pd.Timestamp('20190926'),'C': pd.Series(1,index=list(range(4)),dtype='float32'),'D': np.array([3] * 4,dtype='int32'),'E': [\"Python\",\"Java\",\"C++\",\"C\"],'F': 'wangdao' }\n",
    "d1 = pd.DataFrame(dict_data)\n",
    "print(d1)\n",
    "\n",
    "# d1={\"name\":[\"xiaoming\",\"xiaogang\"],\"age\":[20,32],\"tel\":[10086,10010]}\n",
    "# print(pd.DataFrame(d1))\n",
    "\n",
    "d2 =[{\"name\" : \"xiaohong\" ,\"age\" :32,\"tel\" :10010},{ \"name\":\"xiaogang\" ,\"tel\": 10000} ,{\"name\":\"xiaowang\" ,\"age\":22}]\n",
    "print(pd.DataFrame(d2))"
   ],
   "id": "bb8e6ca7588e5668",
   "outputs": [
    {
     "name": "stdout",
     "output_type": "stream",
     "text": [
      "   A          B    C  D       E        F\n",
      "0  1 2019-09-26  1.0  3  Python  wangdao\n",
      "1  1 2019-09-26  1.0  3    Java  wangdao\n",
      "2  1 2019-09-26  1.0  3     C++  wangdao\n",
      "3  1 2019-09-26  1.0  3       C  wangdao\n",
      "       name   age      tel\n",
      "0  xiaohong  32.0  10010.0\n",
      "1  xiaogang   NaN  10000.0\n",
      "2  xiaowang  22.0      NaN\n"
     ]
    }
   ],
   "execution_count": 30
  },
  {
   "metadata": {
    "ExecuteTime": {
     "end_time": "2025-06-15T18:12:00.328911Z",
     "start_time": "2025-06-15T18:12:00.316436Z"
    }
   },
   "cell_type": "code",
   "source": [
    "d2 = pd.DataFrame(d2)\n",
    "print(d2['name'])\n",
    "d1['G'] = d1['D'] + 4\n",
    "print(d1)\n",
    "del d1['G']\n",
    "print(d1)"
   ],
   "id": "d27056e830df18af",
   "outputs": [
    {
     "name": "stdout",
     "output_type": "stream",
     "text": [
      "0    xiaohong\n",
      "1    xiaogang\n",
      "2    xiaowang\n",
      "Name: name, dtype: object\n",
      "   A          B    C  D       E        F  G\n",
      "0  1 2019-09-26  1.0  3  Python  wangdao  7\n",
      "1  1 2019-09-26  1.0  3    Java  wangdao  7\n",
      "2  1 2019-09-26  1.0  3     C++  wangdao  7\n",
      "3  1 2019-09-26  1.0  3       C  wangdao  7\n",
      "   A          B    C  D       E        F\n",
      "0  1 2019-09-26  1.0  3  Python  wangdao\n",
      "1  1 2019-09-26  1.0  3    Java  wangdao\n",
      "2  1 2019-09-26  1.0  3     C++  wangdao\n",
      "3  1 2019-09-26  1.0  3       C  wangdao\n"
     ]
    }
   ],
   "execution_count": 32
  },
  {
   "metadata": {
    "ExecuteTime": {
     "end_time": "2025-06-15T18:15:17.268901Z",
     "start_time": "2025-06-15T18:15:17.263355Z"
    }
   },
   "cell_type": "code",
   "source": [
    "ser_obj = pd.Series(range(5), index = ['a', 'b', 'c', 'd', 'e'])\n",
    "print(ser_obj)\n",
    "ser_obj = pd.Series(range(5), index = list(\"abcde\"))\n",
    "print(ser_obj.head())\n",
    "print(ser_obj['b'])\n",
    "print(ser_obj.iloc[2])"
   ],
   "id": "c4648a6e62a93218",
   "outputs": [
    {
     "name": "stdout",
     "output_type": "stream",
     "text": [
      "a    0\n",
      "b    1\n",
      "c    2\n",
      "d    3\n",
      "e    4\n",
      "dtype: int64\n",
      "a    0\n",
      "b    1\n",
      "c    2\n",
      "d    3\n",
      "e    4\n",
      "dtype: int64\n",
      "1\n",
      "2\n"
     ]
    }
   ],
   "execution_count": 36
  },
  {
   "metadata": {
    "ExecuteTime": {
     "end_time": "2025-06-15T18:15:39.071785Z",
     "start_time": "2025-06-15T18:15:39.067234Z"
    }
   },
   "cell_type": "code",
   "source": [
    "print(ser_obj.iloc[1:3])\n",
    "print(ser_obj['b':'d'])"
   ],
   "id": "4209454d8e757ac3",
   "outputs": [
    {
     "name": "stdout",
     "output_type": "stream",
     "text": [
      "b    1\n",
      "c    2\n",
      "dtype: int64\n",
      "b    1\n",
      "c    2\n",
      "d    3\n",
      "dtype: int64\n"
     ]
    }
   ],
   "execution_count": 38
  },
  {
   "metadata": {
    "ExecuteTime": {
     "end_time": "2025-06-15T18:16:09.161678Z",
     "start_time": "2025-06-15T18:16:09.152631Z"
    }
   },
   "cell_type": "code",
   "source": [
    "print(ser_obj.iloc[[0, 2, 4]])\n",
    "print(ser_obj[['a', 'e']])"
   ],
   "id": "228d8315ad28cc16",
   "outputs": [
    {
     "name": "stdout",
     "output_type": "stream",
     "text": [
      "a    0\n",
      "c    2\n",
      "e    4\n",
      "dtype: int64\n",
      "a    0\n",
      "e    4\n",
      "dtype: int64\n"
     ]
    }
   ],
   "execution_count": 40
  },
  {
   "metadata": {
    "ExecuteTime": {
     "end_time": "2025-06-15T18:16:36.421905Z",
     "start_time": "2025-06-15T18:16:36.416218Z"
    }
   },
   "cell_type": "code",
   "source": [
    "ser_bool = ser_obj > 2\n",
    "print(ser_bool)\n",
    "print(ser_obj[ser_bool])"
   ],
   "id": "e02c2a262178cc64",
   "outputs": [
    {
     "name": "stdout",
     "output_type": "stream",
     "text": [
      "a    False\n",
      "b    False\n",
      "c    False\n",
      "d     True\n",
      "e     True\n",
      "dtype: bool\n",
      "d    3\n",
      "e    4\n",
      "dtype: int64\n"
     ]
    }
   ],
   "execution_count": 41
  },
  {
   "metadata": {
    "ExecuteTime": {
     "end_time": "2025-06-15T18:18:23.424564Z",
     "start_time": "2025-06-15T18:18:23.417470Z"
    }
   },
   "cell_type": "code",
   "source": [
    "df_obj = pd.DataFrame(np.random.randn(5,4), columns = ['a', 'b', 'c', 'd'])\n",
    "print(df_obj.head())\n",
    "print(df_obj['a']) # 返回 Series 类型\n",
    "print(type(df_obj['a']))\n",
    "print(df_obj[['a']]) # 返回 DataFrame 类型\n",
    "print(type(df_obj[['a']])) # 返回 DataFrame 类型"
   ],
   "id": "e0b04d16ae88204d",
   "outputs": [
    {
     "name": "stdout",
     "output_type": "stream",
     "text": [
      "          a         b         c         d\n",
      "0  1.710539  2.790638 -0.795220 -0.195249\n",
      "1 -0.285286 -0.294783 -0.866930  0.472951\n",
      "2 -0.346358  2.184616 -0.303946 -1.600553\n",
      "3  0.860254  0.611929 -0.620841 -0.703194\n",
      "4  0.981606 -0.906197  0.835355  1.097247\n",
      "0    1.710539\n",
      "1   -0.285286\n",
      "2   -0.346358\n",
      "3    0.860254\n",
      "4    0.981606\n",
      "Name: a, dtype: float64\n",
      "<class 'pandas.core.series.Series'>\n",
      "          a\n",
      "0  1.710539\n",
      "1 -0.285286\n",
      "2 -0.346358\n",
      "3  0.860254\n",
      "4  0.981606\n",
      "<class 'pandas.core.frame.DataFrame'>\n"
     ]
    }
   ],
   "execution_count": 44
  },
  {
   "metadata": {
    "ExecuteTime": {
     "end_time": "2025-06-15T18:22:51.844968Z",
     "start_time": "2025-06-15T18:22:51.835874Z"
    }
   },
   "cell_type": "code",
   "source": [
    "#短的部分在运算后直接变成nan\n",
    "s1 = pd.Series(range(10, 20), index = range(10))\n",
    "s2 = pd.Series(range(20, 25), index = range(5))\n",
    "print(s1 + s2)"
   ],
   "id": "20b4df25c4943e0d",
   "outputs": [
    {
     "name": "stdout",
     "output_type": "stream",
     "text": [
      "0    30.0\n",
      "1    32.0\n",
      "2    34.0\n",
      "3    36.0\n",
      "4    38.0\n",
      "5     NaN\n",
      "6     NaN\n",
      "7     NaN\n",
      "8     NaN\n",
      "9     NaN\n",
      "dtype: float64\n"
     ]
    }
   ],
   "execution_count": 45
  },
  {
   "metadata": {
    "ExecuteTime": {
     "end_time": "2025-06-15T18:23:49.736769Z",
     "start_time": "2025-06-15T18:23:49.733017Z"
    }
   },
   "cell_type": "code",
   "source": "print(s1.add(s2,fill_value=0))",
   "id": "3de24e73ebff543c",
   "outputs": [
    {
     "name": "stdout",
     "output_type": "stream",
     "text": [
      "0    30.0\n",
      "1    32.0\n",
      "2    34.0\n",
      "3    36.0\n",
      "4    38.0\n",
      "5    15.0\n",
      "6    16.0\n",
      "7    17.0\n",
      "8    18.0\n",
      "9    19.0\n",
      "dtype: float64\n"
     ]
    }
   ],
   "execution_count": 46
  }
 ],
 "metadata": {
  "kernelspec": {
   "display_name": "Python 3",
   "language": "python",
   "name": "python3"
  },
  "language_info": {
   "codemirror_mode": {
    "name": "ipython",
    "version": 2
   },
   "file_extension": ".py",
   "mimetype": "text/x-python",
   "name": "python",
   "nbconvert_exporter": "python",
   "pygments_lexer": "ipython2",
   "version": "2.7.6"
  }
 },
 "nbformat": 4,
 "nbformat_minor": 5
}
