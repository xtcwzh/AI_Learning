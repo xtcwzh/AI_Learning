{
 "cells": [
  {
   "metadata": {},
   "cell_type": "code",
   "outputs": [],
   "execution_count": null,
   "source": [
    "# 作者: 王梓豪\n",
    "# 2025年06月10日23时13分50秒\n",
    "# 2958126254@qq.com"
   ],
   "id": "93f10d089b31c684"
  },
  {
   "metadata": {
    "ExecuteTime": {
     "end_time": "2025-06-10T15:15:30.055512Z",
     "start_time": "2025-06-10T15:15:30.053361Z"
    }
   },
   "cell_type": "code",
   "source": [
    "import re\n",
    "from pydoc import replace"
   ],
   "id": "b74975ea019e4bc1",
   "outputs": [],
   "execution_count": 1
  },
  {
   "metadata": {
    "ExecuteTime": {
     "end_time": "2025-06-10T15:16:53.457981Z",
     "start_time": "2025-06-10T15:16:53.452327Z"
    }
   },
   "cell_type": "code",
   "source": [
    "ret = re.search(r\"\\d+\",\"阅读次数为9999\")\n",
    "ret.group()"
   ],
   "id": "3b8fb9a7f74ce931",
   "outputs": [
    {
     "data": {
      "text/plain": [
       "'9999'"
      ]
     },
     "execution_count": 2,
     "metadata": {},
     "output_type": "execute_result"
    }
   ],
   "execution_count": 2
  },
  {
   "metadata": {
    "ExecuteTime": {
     "end_time": "2025-06-10T15:20:49.839840Z",
     "start_time": "2025-06-10T15:20:49.837142Z"
    }
   },
   "cell_type": "code",
   "source": [
    "def find_second_match(pattern,text):\n",
    "    matchs = re.finditer(pattern,text)\n",
    "    try:\n",
    "        next(matchs)\n",
    "        second_match = next(matchs)\n",
    "        return second_match\n",
    "    except:\n",
    "        return None"
   ],
   "id": "e3a3aa4feb18b598",
   "outputs": [],
   "execution_count": 6
  },
  {
   "metadata": {
    "ExecuteTime": {
     "end_time": "2025-06-10T15:20:50.707728Z",
     "start_time": "2025-06-10T15:20:50.704180Z"
    }
   },
   "cell_type": "code",
   "source": [
    "text=\"abc123def456ghi789\"\n",
    "pattern=r\"\\d+\"\n",
    "ret = find_second_match(pattern,text)\n",
    "ret"
   ],
   "id": "b4bb2922eae8e4b0",
   "outputs": [
    {
     "data": {
      "text/plain": [
       "<re.Match object; span=(9, 12), match='456'>"
      ]
     },
     "execution_count": 7,
     "metadata": {},
     "output_type": "execute_result"
    }
   ],
   "execution_count": 7
  },
  {
   "metadata": {
    "ExecuteTime": {
     "end_time": "2025-06-10T15:22:38.623808Z",
     "start_time": "2025-06-10T15:22:38.619151Z"
    }
   },
   "cell_type": "code",
   "source": [
    "ret = re.findall(r\"\\d+\",\"python=9999,c=7890,c++=12345\")\n",
    "ret"
   ],
   "id": "842ac8632ccb868a",
   "outputs": [
    {
     "data": {
      "text/plain": [
       "['9999', '7890', '12345']"
      ]
     },
     "execution_count": 8,
     "metadata": {},
     "output_type": "execute_result"
    }
   ],
   "execution_count": 8
  },
  {
   "metadata": {
    "ExecuteTime": {
     "end_time": "2025-06-10T15:23:36.118884Z",
     "start_time": "2025-06-10T15:23:36.114650Z"
    }
   },
   "cell_type": "code",
   "source": [
    "ret = re.sub(r\"\\d+\",'998','python = 997')\n",
    "ret"
   ],
   "id": "76c592cc3c701d22",
   "outputs": [
    {
     "data": {
      "text/plain": [
       "'python = 998'"
      ]
     },
     "execution_count": 9,
     "metadata": {},
     "output_type": "execute_result"
    }
   ],
   "execution_count": 9
  },
  {
   "metadata": {
    "ExecuteTime": {
     "end_time": "2025-06-10T15:26:42.186494Z",
     "start_time": "2025-06-10T15:26:42.178706Z"
    }
   },
   "cell_type": "code",
   "source": [
    "text = 'apple ,apple,apple asda,apple'\n",
    "pattern = r'apple'\n",
    "replacement = 'orange'\n",
    "ret = re.sub(pattern,replacement,text,count=2)\n",
    "ret"
   ],
   "id": "ca5babb1e46d08de",
   "outputs": [
    {
     "data": {
      "text/plain": [
       "'orange ,orange,apple asda,apple'"
      ]
     },
     "execution_count": 10,
     "metadata": {},
     "output_type": "execute_result"
    }
   ],
   "execution_count": 10
  },
  {
   "metadata": {
    "ExecuteTime": {
     "end_time": "2025-06-10T15:28:38.580038Z",
     "start_time": "2025-06-10T15:28:38.573578Z"
    }
   },
   "cell_type": "code",
   "source": [
    "ret = re.split(r':| ','info:xiaoming 33 shandong')\n",
    "ret"
   ],
   "id": "751529d5d524623e",
   "outputs": [
    {
     "data": {
      "text/plain": [
       "['info', 'xiaoming', '33', 'shandong']"
      ]
     },
     "execution_count": 11,
     "metadata": {},
     "output_type": "execute_result"
    }
   ],
   "execution_count": 11
  }
 ],
 "metadata": {
  "kernelspec": {
   "name": "python3",
   "language": "python",
   "display_name": "Python 3 (ipykernel)"
  }
 },
 "nbformat": 5,
 "nbformat_minor": 9
}
