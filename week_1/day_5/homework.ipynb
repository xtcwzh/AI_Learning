{
 "cells": [
  {
   "cell_type": "code",
   "id": "initial_id",
   "metadata": {
    "collapsed": true,
    "ExecuteTime": {
     "end_time": "2025-06-01T16:16:02.055447Z",
     "start_time": "2025-06-01T16:16:01.832831Z"
    }
   },
   "source": [
    "from networkx.drawing import rescale_layout_dict\n",
    "\n",
    "#1.1\n",
    "num_str = \"0123456789\"\n",
    "print(num_str[2:6])\n",
    "print(num_str[2:])\n",
    "print(num_str[:5])\n",
    "print(num_str[:])\n",
    "print(num_str[::2])\n",
    "print(num_str[1::2])\n",
    "print(num_str[2:-1])\n",
    "print(num_str[-2:])\n",
    "print(num_str[::-1])"
   ],
   "outputs": [
    {
     "name": "stdout",
     "output_type": "stream",
     "text": [
      "2345\n",
      "23456789\n",
      "01234\n",
      "0123456789\n",
      "02468\n",
      "13579\n",
      "2345678\n",
      "89\n",
      "9876543210\n"
     ]
    }
   ],
   "execution_count": 78
  },
  {
   "metadata": {
    "ExecuteTime": {
     "end_time": "2025-06-01T16:16:02.060263Z",
     "start_time": "2025-06-01T16:16:02.058576Z"
    }
   },
   "cell_type": "code",
   "source": [
    "#1.2\n",
    "a = (1, 2, 3)\n",
    "b = ('a', 'b', 'c')\n",
    "my_dict = zip(a, b)\n",
    "print(type(my_dict))\n",
    "print(list(my_dict))"
   ],
   "id": "cd04dee8b7b4417e",
   "outputs": [
    {
     "name": "stdout",
     "output_type": "stream",
     "text": [
      "<class 'zip'>\n",
      "[(1, 'a'), (2, 'b'), (3, 'c')]\n"
     ]
    }
   ],
   "execution_count": 79
  },
  {
   "metadata": {
    "ExecuteTime": {
     "end_time": "2025-06-01T16:16:02.080651Z",
     "start_time": "2025-06-01T16:16:02.078223Z"
    }
   },
   "cell_type": "code",
   "source": [
    "#1.3\n",
    "seasons = ['Spring', 'Summer', 'Fall', 'Winter']\n",
    "list2=list(enumerate(seasons))\n",
    "list2\n",
    "dict_1_3 = {v:k for k,v in list2}\n",
    "dict_1_3"
   ],
   "id": "ab6bccee6168d293",
   "outputs": [
    {
     "data": {
      "text/plain": [
       "{'Spring': 0, 'Summer': 1, 'Fall': 2, 'Winter': 3}"
      ]
     },
     "execution_count": 80,
     "metadata": {},
     "output_type": "execute_result"
    }
   ],
   "execution_count": 80
  },
  {
   "metadata": {
    "ExecuteTime": {
     "end_time": "2025-06-01T16:16:02.098747Z",
     "start_time": "2025-06-01T16:16:02.096642Z"
    }
   },
   "cell_type": "code",
   "source": [
    "#2\n",
    "list2_1 = {1,3,5,2,6}\n",
    "list2_2 = {1,2,3,4}\n",
    "result_2 = list2_1&list2_2\n",
    "result_2"
   ],
   "id": "8bffbc1f429da3b",
   "outputs": [
    {
     "data": {
      "text/plain": [
       "{1, 2, 3}"
      ]
     },
     "execution_count": 81,
     "metadata": {},
     "output_type": "execute_result"
    }
   ],
   "execution_count": 81
  },
  {
   "metadata": {
    "ExecuteTime": {
     "end_time": "2025-06-01T16:16:02.108857Z",
     "start_time": "2025-06-01T16:16:02.106790Z"
    }
   },
   "cell_type": "code",
   "source": [
    "#3\n",
    "list_3 = [1,2,1,2,2,3,2]\n",
    "count = 1\n",
    "num = list_3[0]\n",
    "for i in list_3[1:]:\n",
    "    if i == num:\n",
    "        count += 1\n",
    "    else:\n",
    "        count -= 1\n",
    "        if count == 0:\n",
    "            num = i\n",
    "            count = 1\n",
    "print(num)\n"
   ],
   "id": "a250f004ad3660d1",
   "outputs": [
    {
     "name": "stdout",
     "output_type": "stream",
     "text": [
      "2\n"
     ]
    }
   ],
   "execution_count": 82
  },
  {
   "metadata": {
    "ExecuteTime": {
     "end_time": "2025-06-01T16:16:02.126099Z",
     "start_time": "2025-06-01T16:16:02.124036Z"
    }
   },
   "cell_type": "code",
   "source": [
    "#5\n",
    "tuple5_1 = (1,2,3)\n",
    "set5_2 = {4,5,6}\n",
    "list5 = list(tuple5_1) + list(set5_2)\n",
    "list5"
   ],
   "id": "1bf2d2357b8460ac",
   "outputs": [
    {
     "data": {
      "text/plain": [
       "[1, 2, 3, 4, 5, 6]"
      ]
     },
     "execution_count": 83,
     "metadata": {},
     "output_type": "execute_result"
    }
   ],
   "execution_count": 83
  },
  {
   "metadata": {
    "ExecuteTime": {
     "end_time": "2025-06-01T16:16:02.137980Z",
     "start_time": "2025-06-01T16:16:02.136052Z"
    }
   },
   "cell_type": "code",
   "source": [
    "#6\n",
    "list6 = [1,2,3,4,5,6]\n",
    "list6.append(0)\n",
    "list6.insert(0,7)\n",
    "list6"
   ],
   "id": "77642572750f45d2",
   "outputs": [
    {
     "data": {
      "text/plain": [
       "[7, 1, 2, 3, 4, 5, 6, 0]"
      ]
     },
     "execution_count": 84,
     "metadata": {},
     "output_type": "execute_result"
    }
   ],
   "execution_count": 84
  },
  {
   "metadata": {
    "ExecuteTime": {
     "end_time": "2025-06-01T16:16:02.145855Z",
     "start_time": "2025-06-01T16:16:02.144195Z"
    }
   },
   "cell_type": "code",
   "source": [
    "#7\n",
    "list7 = [1,2,3,4,5,6,7]\n",
    "list7[::-1]"
   ],
   "id": "63f0f2791142db1",
   "outputs": [
    {
     "data": {
      "text/plain": [
       "[7, 6, 5, 4, 3, 2, 1]"
      ]
     },
     "execution_count": 85,
     "metadata": {},
     "output_type": "execute_result"
    }
   ],
   "execution_count": 85
  },
  {
   "metadata": {
    "ExecuteTime": {
     "end_time": "2025-06-01T16:16:02.160005Z",
     "start_time": "2025-06-01T16:16:02.154014Z"
    }
   },
   "cell_type": "code",
   "source": [
    "#8\n",
    "list8 = [1,2,3,4,5,6,7]\n",
    "result_8 = list8[::-1]\n",
    "result_8.index(5)"
   ],
   "id": "7652ac95557d159a",
   "outputs": [
    {
     "data": {
      "text/plain": [
       "2"
      ]
     },
     "execution_count": 86,
     "metadata": {},
     "output_type": "execute_result"
    }
   ],
   "execution_count": 86
  },
  {
   "metadata": {
    "ExecuteTime": {
     "end_time": "2025-06-01T16:16:02.176512Z",
     "start_time": "2025-06-01T16:16:02.174563Z"
    }
   },
   "cell_type": "code",
   "source": [
    "#9\n",
    "list9 = [True,False,0,1,2]\n",
    "print(type(list9[0]))\n",
    "print(type(list9[2]))\n",
    "print(type(list9[4]))\n",
    "print(list9.count(True))\n",
    "print(list9.count(False))\n",
    "print(list9.count(0))\n",
    "print(list9.count(1))\n",
    "print(list9.count(2))"
   ],
   "id": "33d049877971316d",
   "outputs": [
    {
     "name": "stdout",
     "output_type": "stream",
     "text": [
      "<class 'bool'>\n",
      "<class 'int'>\n",
      "<class 'int'>\n",
      "2\n",
      "2\n",
      "2\n",
      "2\n",
      "1\n"
     ]
    }
   ],
   "execution_count": 87
  },
  {
   "metadata": {
    "ExecuteTime": {
     "end_time": "2025-06-01T16:16:02.188746Z",
     "start_time": "2025-06-01T16:16:02.186725Z"
    }
   },
   "cell_type": "code",
   "source": [
    "#10\n",
    "list10 = [True,1,0,'x',None,'x',False,2,True]\n",
    "list10.remove('x')\n",
    "list10.remove('x')\n",
    "list10"
   ],
   "id": "12c3ac6dcbbfc22e",
   "outputs": [
    {
     "data": {
      "text/plain": [
       "[True, 1, 0, None, False, 2, True]"
      ]
     },
     "execution_count": 88,
     "metadata": {},
     "output_type": "execute_result"
    }
   ],
   "execution_count": 88
  },
  {
   "metadata": {
    "ExecuteTime": {
     "end_time": "2025-06-01T16:16:02.201010Z",
     "start_time": "2025-06-01T16:16:02.199111Z"
    }
   },
   "cell_type": "code",
   "source": [
    "#11\n",
    "list11 = [True,1,0,'x',None,'x',False,2,True]\n",
    "list11.pop(4)\n",
    "list11"
   ],
   "id": "ed310f90082258fd",
   "outputs": [
    {
     "data": {
      "text/plain": [
       "[True, 1, 0, 'x', 'x', False, 2, True]"
      ]
     },
     "execution_count": 89,
     "metadata": {},
     "output_type": "execute_result"
    }
   ],
   "execution_count": 89
  },
  {
   "metadata": {
    "ExecuteTime": {
     "end_time": "2025-06-01T16:16:02.215402Z",
     "start_time": "2025-06-01T16:16:02.212716Z"
    }
   },
   "cell_type": "code",
   "source": [
    "#12\n",
    "list12 = [1,2,3,4,5,6,7]\n",
    "result_12 = []\n",
    "cnt = 0;\n",
    "for i in list12:\n",
    "    if cnt % 2 == 0:#保留奇数\n",
    "        cnt += 1\n",
    "        continue\n",
    "    else:\n",
    "        cnt += 1\n",
    "        result_12.append(i)\n",
    "result_12"
   ],
   "id": "c503a3dd89383508",
   "outputs": [
    {
     "data": {
      "text/plain": [
       "[2, 4, 6]"
      ]
     },
     "execution_count": 90,
     "metadata": {},
     "output_type": "execute_result"
    }
   ],
   "execution_count": 90
  },
  {
   "metadata": {
    "ExecuteTime": {
     "end_time": "2025-06-01T16:16:02.225551Z",
     "start_time": "2025-06-01T16:16:02.223398Z"
    }
   },
   "cell_type": "code",
   "source": [
    "#13\n",
    "list13 = [1,2,3,4,5,6,7]\n",
    "list13.clear()\n",
    "list13"
   ],
   "id": "d7e04058ffde6f9c",
   "outputs": [
    {
     "data": {
      "text/plain": [
       "[]"
      ]
     },
     "execution_count": 91,
     "metadata": {},
     "output_type": "execute_result"
    }
   ],
   "execution_count": 91
  },
  {
   "metadata": {
    "ExecuteTime": {
     "end_time": "2025-06-01T16:16:02.244732Z",
     "start_time": "2025-06-01T16:16:02.242354Z"
    }
   },
   "cell_type": "code",
   "source": [
    "#14\n",
    "list14 = [3,0,8,5,7]\n",
    "# result_14_1 = list14.sorted()\n",
    "# result_14_2 = list14.sorted(reverse=True)\n",
    "result_14_1 = sorted(list14)\n",
    "result_14_2 = sorted(list14,reverse=True)\n",
    "print(f\"升序排序为{result_14_1}，降序排序为{result_14_2}\")"
   ],
   "id": "5d0b95be8c820b02",
   "outputs": [
    {
     "name": "stdout",
     "output_type": "stream",
     "text": [
      "升序排序为[0, 3, 5, 7, 8]，降序排序为[8, 7, 5, 3, 0]\n"
     ]
    }
   ],
   "execution_count": 92
  },
  {
   "metadata": {
    "ExecuteTime": {
     "end_time": "2025-06-01T16:16:02.260530Z",
     "start_time": "2025-06-01T16:16:02.257482Z"
    }
   },
   "cell_type": "code",
   "source": [
    "#15\n",
    "list15 = [3,0,8,5,7]\n",
    "cnt = 0\n",
    "for i in list15:\n",
    "    if i > 5:\n",
    "        list15[cnt] = 1\n",
    "        cnt += 1\n",
    "    else:\n",
    "        list15[cnt] = 0\n",
    "        cnt += 1\n",
    "list15"
   ],
   "id": "16faaf38a7946572",
   "outputs": [
    {
     "data": {
      "text/plain": [
       "[0, 0, 1, 0, 1]"
      ]
     },
     "execution_count": 93,
     "metadata": {},
     "output_type": "execute_result"
    }
   ],
   "execution_count": 93
  },
  {
   "metadata": {
    "ExecuteTime": {
     "end_time": "2025-06-01T16:16:02.274674Z",
     "start_time": "2025-06-01T16:16:02.272790Z"
    }
   },
   "cell_type": "code",
   "source": [
    "#16\n",
    "list16 = ['x','y','z']\n",
    "for index,value in enumerate(list16):\n",
    "    print(f\"索引：{index},元素:{value}\")"
   ],
   "id": "99d736b06ecb0910",
   "outputs": [
    {
     "name": "stdout",
     "output_type": "stream",
     "text": [
      "索引：0,元素:x\n",
      "索引：1,元素:y\n",
      "索引：2,元素:z\n"
     ]
    }
   ],
   "execution_count": 94
  },
  {
   "metadata": {
    "ExecuteTime": {
     "end_time": "2025-06-01T16:16:02.293066Z",
     "start_time": "2025-06-01T16:16:02.290902Z"
    }
   },
   "cell_type": "code",
   "source": [
    "#17\n",
    "list17 = [1,2,3,4,5,6,7,8,9]\n",
    "list17_1 = []\n",
    "list17_2 = []\n",
    "for i in list17:\n",
    "    if i % 2 == 0:\n",
    "        list17_1.append(i)\n",
    "    else:\n",
    "        list17_2.append(i)\n",
    "print(f\"偶数组：{list17_1},奇数组；{list17_2}\")"
   ],
   "id": "33c1069f44f1e34f",
   "outputs": [
    {
     "name": "stdout",
     "output_type": "stream",
     "text": [
      "偶数组：[2, 4, 6, 8],奇数组；[1, 3, 5, 7, 9]\n"
     ]
    }
   ],
   "execution_count": 95
  },
  {
   "metadata": {
    "ExecuteTime": {
     "end_time": "2025-06-01T16:16:02.313934Z",
     "start_time": "2025-06-01T16:16:02.310813Z"
    }
   },
   "cell_type": "code",
   "source": [
    "#18\n",
    "list18 =  [[6, 5], [3, 7], [2, 8]]\n",
    "list18.sort(key=lambda x:(x[0],x[1]))\n",
    "list18"
   ],
   "id": "a62b473dede9b941",
   "outputs": [
    {
     "data": {
      "text/plain": [
       "[[2, 8], [3, 7], [6, 5]]"
      ]
     },
     "execution_count": 96,
     "metadata": {},
     "output_type": "execute_result"
    }
   ],
   "execution_count": 96
  },
  {
   "metadata": {
    "ExecuteTime": {
     "end_time": "2025-06-01T16:16:02.328476Z",
     "start_time": "2025-06-01T16:16:02.326165Z"
    }
   },
   "cell_type": "code",
   "source": [
    "#19\n",
    "list19_1 = [1,4,7,2,5,8]\n",
    "list19_2 = ['x','y','z']\n",
    "list19_1[3:3] = list19_2\n",
    "list19_1"
   ],
   "id": "849db0fd7ff60bbe",
   "outputs": [
    {
     "data": {
      "text/plain": [
       "[1, 4, 7, 'x', 'y', 'z', 2, 5, 8]"
      ]
     },
     "execution_count": 97,
     "metadata": {},
     "output_type": "execute_result"
    }
   ],
   "execution_count": 97
  },
  {
   "metadata": {
    "ExecuteTime": {
     "end_time": "2025-06-01T16:16:02.340747Z",
     "start_time": "2025-06-01T16:16:02.338851Z"
    }
   },
   "cell_type": "code",
   "source": [
    "#20\n",
    "list20 = [ i for i in range(5,50)]\n",
    "print(list20)"
   ],
   "id": "f23f03b3a5485c2d",
   "outputs": [
    {
     "name": "stdout",
     "output_type": "stream",
     "text": [
      "[5, 6, 7, 8, 9, 10, 11, 12, 13, 14, 15, 16, 17, 18, 19, 20, 21, 22, 23, 24, 25, 26, 27, 28, 29, 30, 31, 32, 33, 34, 35, 36, 37, 38, 39, 40, 41, 42, 43, 44, 45, 46, 47, 48, 49]\n"
     ]
    }
   ],
   "execution_count": 98
  },
  {
   "metadata": {
    "ExecuteTime": {
     "end_time": "2025-06-01T16:16:02.360594Z",
     "start_time": "2025-06-01T16:16:02.358193Z"
    }
   },
   "cell_type": "code",
   "source": [
    "#22\n",
    "list_22_1 = ['x','y','z']\n",
    "list_22_2 = [1,2,3]\n",
    "result_22 = list(zip(list_22_1, list_22_2))\n",
    "result_22"
   ],
   "id": "362ce5b5e368967c",
   "outputs": [
    {
     "data": {
      "text/plain": [
       "[('x', 1), ('y', 2), ('z', 3)]"
      ]
     },
     "execution_count": 99,
     "metadata": {},
     "output_type": "execute_result"
    }
   ],
   "execution_count": 99
  },
  {
   "metadata": {
    "ExecuteTime": {
     "end_time": "2025-06-01T16:16:02.382745Z",
     "start_time": "2025-06-01T16:16:02.380195Z"
    }
   },
   "cell_type": "code",
   "source": [
    "#23\n",
    "dict_23 = {'Alice': 20, 'Beth': 18, 'Cecil': 21}\n",
    "list_23 = [k for k in dict_23.keys()]\n",
    "list_23"
   ],
   "id": "89572f25d4dc0512",
   "outputs": [
    {
     "data": {
      "text/plain": [
       "['Alice', 'Beth', 'Cecil']"
      ]
     },
     "execution_count": 100,
     "metadata": {},
     "output_type": "execute_result"
    }
   ],
   "execution_count": 100
  },
  {
   "metadata": {
    "ExecuteTime": {
     "end_time": "2025-06-01T16:16:02.407105Z",
     "start_time": "2025-06-01T16:16:02.404995Z"
    }
   },
   "cell_type": "code",
   "source": [
    "#24\n",
    "dict_24 = {'Alice': 20, 'Beth': 18, 'Cecil': 21}\n",
    "list_24 = [v for v in dict_24.values()]\n",
    "list_24"
   ],
   "id": "f6dd52b6eb54b874",
   "outputs": [
    {
     "data": {
      "text/plain": [
       "[20, 18, 21]"
      ]
     },
     "execution_count": 101,
     "metadata": {},
     "output_type": "execute_result"
    }
   ],
   "execution_count": 101
  },
  {
   "metadata": {
    "ExecuteTime": {
     "end_time": "2025-06-01T16:16:02.435569Z",
     "start_time": "2025-06-01T16:16:02.432871Z"
    }
   },
   "cell_type": "code",
   "source": [
    "#25\n",
    "dict_25 = {'Alice': 20, 'Beth': 18, 'Cecil': 21}\n",
    "list_25 = [x for x in dict_25.items()]\n",
    "list_25"
   ],
   "id": "ffaae7e50e19e0bc",
   "outputs": [
    {
     "data": {
      "text/plain": [
       "[('Alice', 20), ('Beth', 18), ('Cecil', 21)]"
      ]
     },
     "execution_count": 102,
     "metadata": {},
     "output_type": "execute_result"
    }
   ],
   "execution_count": 102
  },
  {
   "metadata": {
    "ExecuteTime": {
     "end_time": "2025-06-01T16:16:02.453838Z",
     "start_time": "2025-06-01T16:16:02.451399Z"
    }
   },
   "cell_type": "code",
   "source": [
    "#26\n",
    "dict_26 = {'Alice': 20, 'Beth': 18, 'Cecil': 21}\n",
    "dict_26['David'] = 19\n",
    "dict_26['Cecil'] = 17\n",
    "dict_26"
   ],
   "id": "68227244bd620c78",
   "outputs": [
    {
     "data": {
      "text/plain": [
       "{'Alice': 20, 'Beth': 18, 'Cecil': 17, 'David': 19}"
      ]
     },
     "execution_count": 103,
     "metadata": {},
     "output_type": "execute_result"
    }
   ],
   "execution_count": 103
  },
  {
   "metadata": {
    "ExecuteTime": {
     "end_time": "2025-06-01T16:16:02.468505Z",
     "start_time": "2025-06-01T16:16:02.466403Z"
    }
   },
   "cell_type": "code",
   "source": [
    "#27\n",
    "dict_27 = {'Alice': 20, 'Beth': 18, 'Cecil': 21}\n",
    "dict_27.pop('Beth')\n",
    "print(dict_27)\n",
    "dict_27.clear()\n",
    "print(dict_27)"
   ],
   "id": "b718d048b4930867",
   "outputs": [
    {
     "name": "stdout",
     "output_type": "stream",
     "text": [
      "{'Alice': 20, 'Cecil': 21}\n",
      "{}\n"
     ]
    }
   ],
   "execution_count": 104
  },
  {
   "metadata": {
    "ExecuteTime": {
     "end_time": "2025-06-01T16:16:02.491239Z",
     "start_time": "2025-06-01T16:16:02.488943Z"
    }
   },
   "cell_type": "code",
   "source": [
    "#28\n",
    "dict_28 = {'Alice': 20, 'Beth': 18, 'Cecil': 21}\n",
    "print(dict_28.get('David'))\n",
    "dict_28.get('Alice')"
   ],
   "id": "be4b6eaed37675ff",
   "outputs": [
    {
     "name": "stdout",
     "output_type": "stream",
     "text": [
      "None\n"
     ]
    },
    {
     "data": {
      "text/plain": [
       "20"
      ]
     },
     "execution_count": 105,
     "metadata": {},
     "output_type": "execute_result"
    }
   ],
   "execution_count": 105
  },
  {
   "metadata": {
    "ExecuteTime": {
     "end_time": "2025-06-01T16:16:02.503102Z",
     "start_time": "2025-06-01T16:16:02.501220Z"
    }
   },
   "cell_type": "code",
   "source": [
    "#29\n",
    "dict_29 = {'Alice': 20, 'Beth': 18, 'Cecil': 21}\n",
    "for x in dict_29.items():\n",
    "    print(x)"
   ],
   "id": "99e37b10c005e51f",
   "outputs": [
    {
     "name": "stdout",
     "output_type": "stream",
     "text": [
      "('Alice', 20)\n",
      "('Beth', 18)\n",
      "('Cecil', 21)\n"
     ]
    }
   ],
   "execution_count": 106
  },
  {
   "metadata": {
    "ExecuteTime": {
     "end_time": "2025-06-01T16:16:02.528502Z",
     "start_time": "2025-06-01T16:16:02.525743Z"
    }
   },
   "cell_type": "code",
   "source": [
    "#31\n",
    "list_31 = ['A', 'B', 'C', 'D', 'E', 'F', 'G', 'H']\n",
    "dict_31 = dict.fromkeys(list_31,0)\n",
    "dict_31"
   ],
   "id": "42dc3df10758e4c5",
   "outputs": [
    {
     "data": {
      "text/plain": [
       "{'A': 0, 'B': 0, 'C': 0, 'D': 0, 'E': 0, 'F': 0, 'G': 0, 'H': 0}"
      ]
     },
     "execution_count": 107,
     "metadata": {},
     "output_type": "execute_result"
    }
   ],
   "execution_count": 107
  },
  {
   "metadata": {
    "ExecuteTime": {
     "end_time": "2025-06-01T16:16:02.544852Z",
     "start_time": "2025-06-01T16:16:02.542450Z"
    }
   },
   "cell_type": "code",
   "source": [
    "#32\n",
    "list_32 = [['a',1],['b',2]]\n",
    "tuple_32 = (('x',3),('y',4))\n",
    "combined_data =list_32 + list(tuple_32)\n",
    "print(combined_data)\n",
    "result_32 = dict(combined_data)\n",
    "result_32"
   ],
   "id": "f9d88e33e1e57830",
   "outputs": [
    {
     "name": "stdout",
     "output_type": "stream",
     "text": [
      "[['a', 1], ['b', 2], ('x', 3), ('y', 4)]\n"
     ]
    },
    {
     "data": {
      "text/plain": [
       "{'a': 1, 'b': 2, 'x': 3, 'y': 4}"
      ]
     },
     "execution_count": 108,
     "metadata": {},
     "output_type": "execute_result"
    }
   ],
   "execution_count": 108
  },
  {
   "metadata": {
    "ExecuteTime": {
     "end_time": "2025-06-01T16:16:02.562090Z",
     "start_time": "2025-06-01T16:16:02.560046Z"
    }
   },
   "cell_type": "code",
   "source": [
    "#33\n",
    "tuple_33_1 = (1,2)\n",
    "tuple_33_2 = (3,4)\n",
    "result_33 = tuple_33_1 + tuple_33_2\n",
    "result_33"
   ],
   "id": "429b1ff171f057d3",
   "outputs": [
    {
     "data": {
      "text/plain": [
       "(1, 2, 3, 4)"
      ]
     },
     "execution_count": 109,
     "metadata": {},
     "output_type": "execute_result"
    }
   ],
   "execution_count": 109
  },
  {
   "metadata": {
    "ExecuteTime": {
     "end_time": "2025-06-01T16:16:02.581604Z",
     "start_time": "2025-06-01T16:16:02.579629Z"
    }
   },
   "cell_type": "code",
   "source": [
    "#34\n",
    "tuple_34 = (1,2,3)\n",
    "x,y,z = tuple_34\n",
    "print(f'x = {x},y = {y},z = {z}')"
   ],
   "id": "4e39ef86b9019793",
   "outputs": [
    {
     "name": "stdout",
     "output_type": "stream",
     "text": [
      "x = 1,y = 2,z = 3\n"
     ]
    }
   ],
   "execution_count": 110
  },
  {
   "metadata": {
    "ExecuteTime": {
     "end_time": "2025-06-01T16:16:02.607873Z",
     "start_time": "2025-06-01T16:16:02.605094Z"
    }
   },
   "cell_type": "code",
   "source": [
    "#35\n",
    "tuple_35 = ('Alice','Beth','Cecil')\n",
    "print(tuple_35.index('Cecil'))"
   ],
   "id": "b1ecabf69c6a5faa",
   "outputs": [
    {
     "name": "stdout",
     "output_type": "stream",
     "text": [
      "2\n"
     ]
    }
   ],
   "execution_count": 111
  },
  {
   "metadata": {
    "ExecuteTime": {
     "end_time": "2025-06-01T16:16:02.625792Z",
     "start_time": "2025-06-01T16:16:02.623285Z"
    }
   },
   "cell_type": "code",
   "source": [
    "#36\n",
    "tuple_36 = (2,3,5,3,2,4)\n",
    "result_36 = tuple_36.count(2)\n",
    "result_36"
   ],
   "id": "d49d0b88c0e68a82",
   "outputs": [
    {
     "data": {
      "text/plain": [
       "2"
      ]
     },
     "execution_count": 112,
     "metadata": {},
     "output_type": "execute_result"
    }
   ],
   "execution_count": 112
  },
  {
   "metadata": {
    "ExecuteTime": {
     "end_time": "2025-06-01T16:16:02.648820Z",
     "start_time": "2025-06-01T16:16:02.646273Z"
    }
   },
   "cell_type": "code",
   "source": [
    "#37\n",
    "tuple_37 = ('Alice','Beth','Cecil')\n",
    "result_37 = 'Cecil' in tuple_37\n",
    "result_37"
   ],
   "id": "1f5316cbfdfc5546",
   "outputs": [
    {
     "data": {
      "text/plain": [
       "True"
      ]
     },
     "execution_count": 113,
     "metadata": {},
     "output_type": "execute_result"
    }
   ],
   "execution_count": 113
  },
  {
   "metadata": {
    "ExecuteTime": {
     "end_time": "2025-06-01T16:16:02.668939Z",
     "start_time": "2025-06-01T16:16:02.666319Z"
    }
   },
   "cell_type": "code",
   "source": [
    "#38\n",
    "tuple_38 = (2,5,3,7)\n",
    "result_38 = tuple_38[:2] + (9,) + tuple_38[2:]\n",
    "result_38"
   ],
   "id": "91090adf5d5cf670",
   "outputs": [
    {
     "data": {
      "text/plain": [
       "(2, 5, 9, 3, 7)"
      ]
     },
     "execution_count": 114,
     "metadata": {},
     "output_type": "execute_result"
    }
   ],
   "execution_count": 114
  },
  {
   "metadata": {
    "ExecuteTime": {
     "end_time": "2025-06-01T16:16:02.684185Z",
     "start_time": "2025-06-01T16:16:02.681600Z"
    }
   },
   "cell_type": "code",
   "source": [
    "#39\n",
    "set_39 = set()\n",
    "set_39.add('x')\n",
    "set_39.add('y')\n",
    "set_39.add('z')\n",
    "set_39"
   ],
   "id": "d2ae9806c24ee2d7",
   "outputs": [
    {
     "data": {
      "text/plain": [
       "{'x', 'y', 'z'}"
      ]
     },
     "execution_count": 115,
     "metadata": {},
     "output_type": "execute_result"
    }
   ],
   "execution_count": 115
  },
  {
   "metadata": {
    "ExecuteTime": {
     "end_time": "2025-06-01T16:16:02.698271Z",
     "start_time": "2025-06-01T16:16:02.695659Z"
    }
   },
   "cell_type": "code",
   "source": [
    "#40\n",
    "set_40 = set_39.copy()\n",
    "print(set_40)\n",
    "set_40.remove('z')\n",
    "print(set_40)\n",
    "set_40.clear()\n",
    "set_40"
   ],
   "id": "c273d5343776c18a",
   "outputs": [
    {
     "name": "stdout",
     "output_type": "stream",
     "text": [
      "{'x', 'y', 'z'}\n",
      "{'x', 'y'}\n"
     ]
    },
    {
     "data": {
      "text/plain": [
       "set()"
      ]
     },
     "execution_count": 116,
     "metadata": {},
     "output_type": "execute_result"
    }
   ],
   "execution_count": 116
  },
  {
   "metadata": {
    "ExecuteTime": {
     "end_time": "2025-06-01T16:16:02.722908Z",
     "start_time": "2025-06-01T16:16:02.720401Z"
    }
   },
   "cell_type": "code",
   "source": [
    "#41~45\n",
    "set_41_1 = {'A','D','B'}\n",
    "set_41_2 = {'D','E','C'}\n",
    "result_41 = set_41_1 - set_41_2\n",
    "print(f'41:{result_41}')\n",
    "result_42 = set_41_1 | set_41_2\n",
    "print(f'42:{result_42}')\n",
    "result_43 = set_41_1 & set_41_2\n",
    "print(f'43:{result_43}')\n",
    "result_44 = set_41_1 ^ set_41_2\n",
    "print(f'44:{result_44}')\n",
    "result_45 = len(set_41_1 & set_41_2) > 0\n",
    "print(f'45:{result_45}')"
   ],
   "id": "b78537228ec534db",
   "outputs": [
    {
     "name": "stdout",
     "output_type": "stream",
     "text": [
      "41:{'B', 'A'}\n",
      "42:{'E', 'C', 'B', 'D', 'A'}\n",
      "43:{'D'}\n",
      "44:{'E', 'B', 'C', 'A'}\n",
      "45:True\n"
     ]
    }
   ],
   "execution_count": 117
  },
  {
   "metadata": {
    "ExecuteTime": {
     "end_time": "2025-06-01T16:16:02.740010Z",
     "start_time": "2025-06-01T16:16:02.737462Z"
    }
   },
   "cell_type": "code",
   "source": [
    "#46\n",
    "set_46_1 = {'A','C'}\n",
    "set_46_2 = {'D','C','E','A'}\n",
    "result_46 = len(set_46_1 & set_46_2) == len(set_46_1)\n",
    "result_46"
   ],
   "id": "bca29fa06c3940f6",
   "outputs": [
    {
     "data": {
      "text/plain": [
       "True"
      ]
     },
     "execution_count": 118,
     "metadata": {},
     "output_type": "execute_result"
    }
   ],
   "execution_count": 118
  },
  {
   "metadata": {
    "ExecuteTime": {
     "end_time": "2025-06-01T16:16:02.754704Z",
     "start_time": "2025-06-01T16:16:02.752421Z"
    }
   },
   "cell_type": "code",
   "source": [
    "#47\n",
    "list_47 = [1,2,5,2,3,4,5,'x',4,'x']\n",
    "set_47= set(list_47)\n",
    "result_47 = list(set_47)\n",
    "result_47"
   ],
   "id": "7e6a9577c040fdb",
   "outputs": [
    {
     "data": {
      "text/plain": [
       "[1, 2, 3, 4, 5, 'x']"
      ]
     },
     "execution_count": 119,
     "metadata": {},
     "output_type": "execute_result"
    }
   ],
   "execution_count": 119
  },
  {
   "metadata": {
    "ExecuteTime": {
     "end_time": "2025-06-01T16:16:02.772071Z",
     "start_time": "2025-06-01T16:16:02.770355Z"
    }
   },
   "cell_type": "code",
   "source": [
    "#48\n",
    "string_48_1 = 'sbCdEfg'\n",
    "result_48_1 = string_48_1.upper()\n",
    "print(result_48_1)\n",
    "result_48_2 = string_48_1.lower()\n",
    "print(result_48_2)\n",
    "result_48_3 = string_48_1.swapcase()\n",
    "print(result_48_3)"
   ],
   "id": "1e6f636ff258242e",
   "outputs": [
    {
     "name": "stdout",
     "output_type": "stream",
     "text": [
      "SBCDEFG\n",
      "sbcdefg\n",
      "SBcDeFG\n"
     ]
    }
   ],
   "execution_count": 120
  },
  {
   "metadata": {
    "ExecuteTime": {
     "end_time": "2025-06-01T16:16:02.788727Z",
     "start_time": "2025-06-01T16:16:02.786435Z"
    }
   },
   "cell_type": "code",
   "source": [
    "#49\n",
    "string_49 = string_48_1\n",
    "result_49_1 = string_49.istitle()\n",
    "print(result_49_1)\n",
    "result_49_2 = string_49.islower()\n",
    "print(result_49_2)\n",
    "result_49_3 = string_49.isupper()\n",
    "print(result_49_3)"
   ],
   "id": "c8df002d66633bf9",
   "outputs": [
    {
     "name": "stdout",
     "output_type": "stream",
     "text": [
      "False\n",
      "False\n",
      "False\n"
     ]
    }
   ],
   "execution_count": 121
  },
  {
   "metadata": {
    "ExecuteTime": {
     "end_time": "2025-06-01T16:16:02.805551Z",
     "start_time": "2025-06-01T16:16:02.803700Z"
    }
   },
   "cell_type": "code",
   "source": [
    "#50\n",
    "string_50 = 'this is python'\n",
    "print(string_50.capitalize())\n",
    "print(string_50.title())"
   ],
   "id": "5935f39b8e120aa0",
   "outputs": [
    {
     "name": "stdout",
     "output_type": "stream",
     "text": [
      "This is python\n",
      "This Is Python\n"
     ]
    }
   ],
   "execution_count": 122
  },
  {
   "metadata": {
    "ExecuteTime": {
     "end_time": "2025-06-01T16:16:02.821058Z",
     "start_time": "2025-06-01T16:16:02.819326Z"
    }
   },
   "cell_type": "code",
   "source": [
    "#51\n",
    "string_51 = 'this is python'\n",
    "print(string_51.startswith('this'))\n",
    "print(string_51.endswith('python'))"
   ],
   "id": "84c1187ffb2ab226",
   "outputs": [
    {
     "name": "stdout",
     "output_type": "stream",
     "text": [
      "True\n",
      "True\n"
     ]
    }
   ],
   "execution_count": 123
  },
  {
   "metadata": {
    "ExecuteTime": {
     "end_time": "2025-06-01T16:16:02.830234Z",
     "start_time": "2025-06-01T16:16:02.828035Z"
    }
   },
   "cell_type": "code",
   "source": [
    "#52\n",
    "string_52 = 'this is python'\n",
    "print(string_52.count('is'))"
   ],
   "id": "b8c20d52b789aa14",
   "outputs": [
    {
     "name": "stdout",
     "output_type": "stream",
     "text": [
      "2\n"
     ]
    }
   ],
   "execution_count": 124
  },
  {
   "metadata": {
    "ExecuteTime": {
     "end_time": "2025-06-01T16:16:02.852615Z",
     "start_time": "2025-06-01T16:16:02.850340Z"
    }
   },
   "cell_type": "code",
   "source": [
    "#53\n",
    "string_53 = 'this is python'\n",
    "print(string_53.find('is'))\n",
    "print(string_53.rfind('is'))"
   ],
   "id": "b1e099bb51177290",
   "outputs": [
    {
     "name": "stdout",
     "output_type": "stream",
     "text": [
      "2\n",
      "5\n"
     ]
    }
   ],
   "execution_count": 125
  },
  {
   "metadata": {
    "ExecuteTime": {
     "end_time": "2025-06-01T16:16:02.876605Z",
     "start_time": "2025-06-01T16:16:02.874673Z"
    }
   },
   "cell_type": "code",
   "source": [
    "#54\n",
    "string_54 = 'this is python'\n",
    "print(string_54.split())"
   ],
   "id": "b19c768ee71a5805",
   "outputs": [
    {
     "name": "stdout",
     "output_type": "stream",
     "text": [
      "['this', 'is', 'python']\n"
     ]
    }
   ],
   "execution_count": 126
  },
  {
   "metadata": {
    "ExecuteTime": {
     "end_time": "2025-06-01T16:16:02.887287Z",
     "start_time": "2025-06-01T16:16:02.885581Z"
    }
   },
   "cell_type": "code",
   "source": [
    "#55\n",
    "string_55 = 'blog.csdn.net/xufive/article/details/102946961'\n",
    "print(string_55.split('/'))"
   ],
   "id": "d3d12a643157dee6",
   "outputs": [
    {
     "name": "stdout",
     "output_type": "stream",
     "text": [
      "['blog.csdn.net', 'xufive', 'article', 'details', '102946961']\n"
     ]
    }
   ],
   "execution_count": 127
  },
  {
   "metadata": {
    "ExecuteTime": {
     "end_time": "2025-06-01T16:16:02.907658Z",
     "start_time": "2025-06-01T16:16:02.905463Z"
    }
   },
   "cell_type": "code",
   "source": [
    "#56\n",
    "string_56 = '2.72,5,7,3.14'\n",
    "list_56 = string_56.split(',')\n",
    "list_56[0] = float(list_56[0])\n",
    "list_56[1] = int(list_56[1])\n",
    "list_56[2] = int(list_56[2])\n",
    "list_56[3] = float(list_56[3])\n",
    "print(list_56)\n",
    "print(type(list_56[0]), type(list_56[1]), type(list_56[2]), type(list_56[3]))"
   ],
   "id": "eeea576ab52cad9a",
   "outputs": [
    {
     "name": "stdout",
     "output_type": "stream",
     "text": [
      "[2.72, 5, 7, 3.14]\n",
      "<class 'float'> <class 'int'> <class 'int'> <class 'float'>\n"
     ]
    }
   ],
   "execution_count": 128
  },
  {
   "metadata": {
    "ExecuteTime": {
     "end_time": "2025-06-01T16:16:02.922881Z",
     "start_time": "2025-06-01T16:16:02.920597Z"
    }
   },
   "cell_type": "code",
   "source": [
    "#57\n",
    "string_57 = 'adS12K56'\n",
    "print(string_57.isalnum())\n",
    "print(string_57.isdigit())\n",
    "print(string_57.isalpha())"
   ],
   "id": "63890ddd8925ed0f",
   "outputs": [
    {
     "name": "stdout",
     "output_type": "stream",
     "text": [
      "True\n",
      "False\n",
      "False\n"
     ]
    }
   ],
   "execution_count": 129
  },
  {
   "metadata": {
    "ExecuteTime": {
     "end_time": "2025-06-01T16:16:02.941718Z",
     "start_time": "2025-06-01T16:16:02.939397Z"
    }
   },
   "cell_type": "code",
   "source": [
    "#58\n",
    "string_58 = 'there is python'\n",
    "string_58.replace('is', 'are')"
   ],
   "id": "cdc61efcd8f0d130",
   "outputs": [
    {
     "data": {
      "text/plain": [
       "'there are python'"
      ]
     },
     "execution_count": 130,
     "metadata": {},
     "output_type": "execute_result"
    }
   ],
   "execution_count": 130
  },
  {
   "metadata": {
    "ExecuteTime": {
     "end_time": "2025-06-01T16:16:02.963717Z",
     "start_time": "2025-06-01T16:16:02.961659Z"
    }
   },
   "cell_type": "code",
   "source": [
    "#59\n",
    "string_59 = '\\t python \\n'\n",
    "print(string_59)\n",
    "print(string_59.lstrip())\n",
    "print(string_59.rstrip())\n",
    "print(string_59.strip())"
   ],
   "id": "5973d48adbc958bd",
   "outputs": [
    {
     "name": "stdout",
     "output_type": "stream",
     "text": [
      "\t python \n",
      "\n",
      "python \n",
      "\n",
      "\t python\n",
      "python\n"
     ]
    }
   ],
   "execution_count": 131
  },
  {
   "metadata": {
    "ExecuteTime": {
     "end_time": "2025-06-01T16:16:02.980582Z",
     "start_time": "2025-06-01T16:16:02.977971Z"
    }
   },
   "cell_type": "code",
   "source": [
    "#60\n",
    "string_60_1 = 'ok'\n",
    "string_60_2 = 'hello'\n",
    "string_60_3 = 'thank you'\n",
    "field_width = 20\n",
    "\n",
    "print(\"--- Left Alignment ---\")\n",
    "print(f\"'{string_60_1.ljust(field_width)}'\")\n",
    "print(f\"'{string_60_2.ljust(field_width)}'\")\n",
    "print(f\"'{string_60_3.ljust(field_width)}'\")\n",
    "\n",
    "print(\"\\n--- Right Alignment ---\")\n",
    "print(f\"'{string_60_1.rjust(field_width)}'\")\n",
    "print(f\"'{string_60_2.rjust(field_width)}'\")\n",
    "print(f\"'{string_60_3.rjust(field_width)}'\")\n",
    "\n",
    "print(\"\\n--- Center Alignment ---\")\n",
    "print(f\"'{string_60_1.center(field_width)}'\")\n",
    "print(f\"'{string_60_2.center(field_width)}'\")\n",
    "print(f\"'{string_60_3.center(field_width)}'\")\n"
   ],
   "id": "429bcbfe36009bf3",
   "outputs": [
    {
     "name": "stdout",
     "output_type": "stream",
     "text": [
      "--- Left Alignment ---\n",
      "'ok                  '\n",
      "'hello               '\n",
      "'thank you           '\n",
      "\n",
      "--- Right Alignment ---\n",
      "'                  ok'\n",
      "'               hello'\n",
      "'           thank you'\n",
      "\n",
      "--- Center Alignment ---\n",
      "'         ok         '\n",
      "'       hello        '\n",
      "'     thank you      '\n"
     ]
    }
   ],
   "execution_count": 132
  },
  {
   "metadata": {
    "ExecuteTime": {
     "end_time": "2025-06-01T16:16:02.998831Z",
     "start_time": "2025-06-01T16:16:02.996789Z"
    }
   },
   "cell_type": "code",
   "source": [
    "#61\n",
    "string_61_1 = '15'\n",
    "string_61_2 = '127'\n",
    "string_61_3 = '65535'\n",
    "max_lenth = max(len(string_61_1), len(string_61_2), len(string_61_3))\n",
    "print(f\"1:{string_61_1.zfill(max_lenth)},2:{string_61_2.zfill(max_lenth)},3:{string_61_3.zfill(max_lenth)}\")"
   ],
   "id": "c36b2b6111224821",
   "outputs": [
    {
     "name": "stdout",
     "output_type": "stream",
     "text": [
      "1:00015,2:00127,3:65535\n"
     ]
    }
   ],
   "execution_count": 133
  },
  {
   "metadata": {
    "ExecuteTime": {
     "end_time": "2025-06-01T16:16:03.017814Z",
     "start_time": "2025-06-01T16:16:03.015091Z"
    }
   },
   "cell_type": "code",
   "source": [
    "#62\n",
    "list_62 = ['a','b','c']\n",
    "result_62 = '|'.join(list_62)\n",
    "result_62"
   ],
   "id": "4fa90a9adce4a3c3",
   "outputs": [
    {
     "data": {
      "text/plain": [
       "'a|b|c'"
      ]
     },
     "execution_count": 134,
     "metadata": {},
     "output_type": "execute_result"
    }
   ],
   "execution_count": 134
  },
  {
   "metadata": {
    "ExecuteTime": {
     "end_time": "2025-06-01T16:16:03.032432Z",
     "start_time": "2025-06-01T16:16:03.030557Z"
    }
   },
   "cell_type": "code",
   "source": [
    "#63\n",
    "str_63 = 'abc'\n",
    "print(','.join(str_63))"
   ],
   "id": "297c7dc346cb2312",
   "outputs": [
    {
     "name": "stdout",
     "output_type": "stream",
     "text": [
      "a,b,c\n"
     ]
    }
   ],
   "execution_count": 135
  },
  {
   "metadata": {
    "ExecuteTime": {
     "end_time": "2025-06-01T16:16:05.534709Z",
     "start_time": "2025-06-01T16:16:03.042121Z"
    }
   },
   "cell_type": "code",
   "source": [
    "#64\n",
    "phone_number_input = input(\"请输入手机号码 (11位数字): \")\n",
    "\n",
    "if phone_number_input.isdigit() and len(phone_number_input) == 11:\n",
    "    formatted_phone_number = (\n",
    "        f\"{phone_number_input[0:3]} \"\n",
    "        f\"{phone_number_input[3:7]} \"\n",
    "        f\"{phone_number_input[7:11]}\"\n",
    "    )\n",
    "    print(f\"Mobile: {formatted_phone_number}\")\n",
    "else:\n",
    "    print(\"输入的手机号码格式不正确，请输入11位数字。\")"
   ],
   "id": "b752da5f5a69e858",
   "outputs": [
    {
     "ename": "KeyboardInterrupt",
     "evalue": "Interrupted by user",
     "output_type": "error",
     "traceback": [
      "\u001B[0;31m---------------------------------------------------------------------------\u001B[0m",
      "\u001B[0;31mKeyboardInterrupt\u001B[0m                         Traceback (most recent call last)",
      "Cell \u001B[0;32mIn[136], line 2\u001B[0m\n\u001B[1;32m      1\u001B[0m \u001B[38;5;66;03m#64\u001B[39;00m\n\u001B[0;32m----> 2\u001B[0m phone_number_input \u001B[38;5;241m=\u001B[39m \u001B[38;5;28minput\u001B[39m(\u001B[38;5;124m\"\u001B[39m\u001B[38;5;124m请输入手机号码 (11位数字): \u001B[39m\u001B[38;5;124m\"\u001B[39m)\n\u001B[1;32m      4\u001B[0m \u001B[38;5;28;01mif\u001B[39;00m phone_number_input\u001B[38;5;241m.\u001B[39misdigit() \u001B[38;5;129;01mand\u001B[39;00m \u001B[38;5;28mlen\u001B[39m(phone_number_input) \u001B[38;5;241m==\u001B[39m \u001B[38;5;241m11\u001B[39m:\n\u001B[1;32m      5\u001B[0m     formatted_phone_number \u001B[38;5;241m=\u001B[39m (\n\u001B[1;32m      6\u001B[0m         \u001B[38;5;124mf\u001B[39m\u001B[38;5;124m\"\u001B[39m\u001B[38;5;132;01m{\u001B[39;00mphone_number_input[\u001B[38;5;241m0\u001B[39m:\u001B[38;5;241m3\u001B[39m]\u001B[38;5;132;01m}\u001B[39;00m\u001B[38;5;124m \u001B[39m\u001B[38;5;124m\"\u001B[39m\n\u001B[1;32m      7\u001B[0m         \u001B[38;5;124mf\u001B[39m\u001B[38;5;124m\"\u001B[39m\u001B[38;5;132;01m{\u001B[39;00mphone_number_input[\u001B[38;5;241m3\u001B[39m:\u001B[38;5;241m7\u001B[39m]\u001B[38;5;132;01m}\u001B[39;00m\u001B[38;5;124m \u001B[39m\u001B[38;5;124m\"\u001B[39m\n\u001B[1;32m      8\u001B[0m         \u001B[38;5;124mf\u001B[39m\u001B[38;5;124m\"\u001B[39m\u001B[38;5;132;01m{\u001B[39;00mphone_number_input[\u001B[38;5;241m7\u001B[39m:\u001B[38;5;241m11\u001B[39m]\u001B[38;5;132;01m}\u001B[39;00m\u001B[38;5;124m\"\u001B[39m\n\u001B[1;32m      9\u001B[0m     )\n",
      "File \u001B[0;32m/opt/anaconda3/lib/python3.12/site-packages/ipykernel/kernelbase.py:1262\u001B[0m, in \u001B[0;36mKernel.raw_input\u001B[0;34m(self, prompt)\u001B[0m\n\u001B[1;32m   1260\u001B[0m     msg \u001B[38;5;241m=\u001B[39m \u001B[38;5;124m\"\u001B[39m\u001B[38;5;124mraw_input was called, but this frontend does not support input requests.\u001B[39m\u001B[38;5;124m\"\u001B[39m\n\u001B[1;32m   1261\u001B[0m     \u001B[38;5;28;01mraise\u001B[39;00m StdinNotImplementedError(msg)\n\u001B[0;32m-> 1262\u001B[0m \u001B[38;5;28;01mreturn\u001B[39;00m \u001B[38;5;28mself\u001B[39m\u001B[38;5;241m.\u001B[39m_input_request(\n\u001B[1;32m   1263\u001B[0m     \u001B[38;5;28mstr\u001B[39m(prompt),\n\u001B[1;32m   1264\u001B[0m     \u001B[38;5;28mself\u001B[39m\u001B[38;5;241m.\u001B[39m_parent_ident[\u001B[38;5;124m\"\u001B[39m\u001B[38;5;124mshell\u001B[39m\u001B[38;5;124m\"\u001B[39m],\n\u001B[1;32m   1265\u001B[0m     \u001B[38;5;28mself\u001B[39m\u001B[38;5;241m.\u001B[39mget_parent(\u001B[38;5;124m\"\u001B[39m\u001B[38;5;124mshell\u001B[39m\u001B[38;5;124m\"\u001B[39m),\n\u001B[1;32m   1266\u001B[0m     password\u001B[38;5;241m=\u001B[39m\u001B[38;5;28;01mFalse\u001B[39;00m,\n\u001B[1;32m   1267\u001B[0m )\n",
      "File \u001B[0;32m/opt/anaconda3/lib/python3.12/site-packages/ipykernel/kernelbase.py:1305\u001B[0m, in \u001B[0;36mKernel._input_request\u001B[0;34m(self, prompt, ident, parent, password)\u001B[0m\n\u001B[1;32m   1302\u001B[0m \u001B[38;5;28;01mexcept\u001B[39;00m \u001B[38;5;167;01mKeyboardInterrupt\u001B[39;00m:\n\u001B[1;32m   1303\u001B[0m     \u001B[38;5;66;03m# re-raise KeyboardInterrupt, to truncate traceback\u001B[39;00m\n\u001B[1;32m   1304\u001B[0m     msg \u001B[38;5;241m=\u001B[39m \u001B[38;5;124m\"\u001B[39m\u001B[38;5;124mInterrupted by user\u001B[39m\u001B[38;5;124m\"\u001B[39m\n\u001B[0;32m-> 1305\u001B[0m     \u001B[38;5;28;01mraise\u001B[39;00m \u001B[38;5;167;01mKeyboardInterrupt\u001B[39;00m(msg) \u001B[38;5;28;01mfrom\u001B[39;00m \u001B[38;5;28;01mNone\u001B[39;00m\n\u001B[1;32m   1306\u001B[0m \u001B[38;5;28;01mexcept\u001B[39;00m \u001B[38;5;167;01mException\u001B[39;00m:\n\u001B[1;32m   1307\u001B[0m     \u001B[38;5;28mself\u001B[39m\u001B[38;5;241m.\u001B[39mlog\u001B[38;5;241m.\u001B[39mwarning(\u001B[38;5;124m\"\u001B[39m\u001B[38;5;124mInvalid Message:\u001B[39m\u001B[38;5;124m\"\u001B[39m, exc_info\u001B[38;5;241m=\u001B[39m\u001B[38;5;28;01mTrue\u001B[39;00m)\n",
      "\u001B[0;31mKeyboardInterrupt\u001B[0m: Interrupted by user"
     ]
    }
   ],
   "execution_count": 136
  },
  {
   "metadata": {
    "ExecuteTime": {
     "end_time": "2025-06-01T16:16:05.542062Z",
     "start_time": "2025-06-01T16:03:24.412971Z"
    }
   },
   "cell_type": "code",
   "source": [
    "#65\n",
    "\n",
    "year = input(\"请输入年份 (例如 2019): \")\n",
    "month = input(\"请输入月份 (例如 5): \")\n",
    "day = input(\"请输入日期 (例如 1): \")\n",
    "hour = input(\"请输入小时 (例如 12): \")\n",
    "minute = input(\"请输入分钟 (例如 0): \")\n",
    "second = input(\"请输入秒钟 (例如 0): \")\n",
    "\n",
    "formatted_datetime_string = (\n",
    "    f\"{year}-\"\n",
    "    f\"{int(month):02d}-\"\n",
    "    f\"{int(day):02d} \"\n",
    "    f\"{int(hour):02d}:\"\n",
    "    f\"{int(minute):02d}:\"\n",
    "    f\"{int(second):02d}\"\n",
    ")\n",
    "\n",
    "print(f\"输出字符串为: '{formatted_datetime_string}'\")"
   ],
   "id": "295890afde4c7342",
   "outputs": [
    {
     "name": "stdout",
     "output_type": "stream",
     "text": [
      "输出字符串为: '2019-05-06 10:50:03'\n"
     ]
    }
   ],
   "execution_count": 66
  },
  {
   "metadata": {
    "ExecuteTime": {
     "end_time": "2025-06-01T16:16:05.543814Z",
     "start_time": "2025-06-01T16:06:04.683242Z"
    }
   },
   "cell_type": "code",
   "source": [
    "#66\n",
    "a = 3.1415926\n",
    "b = 2.7182818\n",
    "print(f\"pi = {a:.4f},e = {b:.4f}\")"
   ],
   "id": "b8909d126260b114",
   "outputs": [
    {
     "name": "stdout",
     "output_type": "stream",
     "text": [
      "pi = 3.1416,e = 2.7183\n"
     ]
    }
   ],
   "execution_count": 67
  },
  {
   "metadata": {
    "ExecuteTime": {
     "end_time": "2025-06-01T16:16:05.550705Z",
     "start_time": "2025-06-01T16:06:41.494974Z"
    }
   },
   "cell_type": "code",
   "source": [
    "#67\n",
    "num1 = 0.00774592\n",
    "num2 = 356800000\n",
    "\n",
    "formatted_num1 = f\"{num1:e}\"\n",
    "formatted_num2 = f\"{num2:e}\"\n",
    "\n",
    "print(f\"0.00774592 的科学计数法表示: '{formatted_num1}'\")\n",
    "print(f\"356800000 的科学计数法表示: '{formatted_num2}'\")"
   ],
   "id": "d8d62771f14d143c",
   "outputs": [
    {
     "name": "stdout",
     "output_type": "stream",
     "text": [
      "0.00774592 的科学计数法表示: '7.745920e-03'\n",
      "356800000 的科学计数法表示: '3.568000e+08'\n"
     ]
    }
   ],
   "execution_count": 68
  },
  {
   "metadata": {
    "ExecuteTime": {
     "end_time": "2025-06-01T16:16:05.551066Z",
     "start_time": "2025-06-01T16:08:30.560249Z"
    }
   },
   "cell_type": "code",
   "source": [
    "#68\n",
    "list_68 = [0, 1, 2, 3.14, 'x', None, '', list(), {5}]\n",
    "result_68 = [bool(i) for i in list_68]\n",
    "result_68"
   ],
   "id": "cc9e36343ffeb8c8",
   "outputs": [
    {
     "data": {
      "text/plain": [
       "[False, True, True, True, True, False, False, False, True]"
      ]
     },
     "execution_count": 69,
     "metadata": {},
     "output_type": "execute_result"
    }
   ],
   "execution_count": 69
  },
  {
   "metadata": {
    "ExecuteTime": {
     "end_time": "2025-06-01T16:16:05.554231Z",
     "start_time": "2025-06-01T16:09:26.055010Z"
    }
   },
   "cell_type": "code",
   "source": [
    "#69\n",
    "char_a = 'a'\n",
    "char_A = 'A'\n",
    "\n",
    "print(f\"字符 '{char_a}' 的 ASCII 编码值是: {ord(char_a)}\")\n",
    "print(f\"字符 '{char_A}' 的 ASCII 编码值是: {ord(char_A)}\")"
   ],
   "id": "a84eb6fd969793b3",
   "outputs": [
    {
     "name": "stdout",
     "output_type": "stream",
     "text": [
      "字符 'a' 的 ASCII 编码值是: 97\n",
      "字符 'A' 的 ASCII 编码值是: 65\n"
     ]
    }
   ],
   "execution_count": 71
  },
  {
   "metadata": {
    "ExecuteTime": {
     "end_time": "2025-06-01T16:16:05.554354Z",
     "start_time": "2025-06-01T16:10:30.576618Z"
    }
   },
   "cell_type": "code",
   "source": [
    "#70\n",
    "print(f\"57 is : {chr(57)}\")\n",
    "print(f\"122 is : {chr(122)}\")"
   ],
   "id": "462897e6361a7711",
   "outputs": [
    {
     "name": "stdout",
     "output_type": "stream",
     "text": [
      "57 is : 9\n",
      "122 is : z\n"
     ]
    }
   ],
   "execution_count": 72
  },
  {
   "metadata": {
    "ExecuteTime": {
     "end_time": "2025-06-01T16:16:05.554463Z",
     "start_time": "2025-06-01T16:12:47.029709Z"
    }
   },
   "cell_type": "code",
   "source": [
    "#71\n",
    "list_71 = [3, 'a', 5.2, 4, {}, 9, []]\n",
    "result_71 = []\n",
    "for i in list_71:\n",
    "    if isinstance(i, (int,float)):\n",
    "        if i > 3:\n",
    "            result_71.append(1)\n",
    "        else:\n",
    "            result_71.append(0)\n",
    "    else:\n",
    "        result_71.append(0)\n",
    "result_71"
   ],
   "id": "f705d7b1e28d3851",
   "outputs": [
    {
     "data": {
      "text/plain": [
       "[0, 0, 1, 1, 0, 1, 0]"
      ]
     },
     "execution_count": 73,
     "metadata": {},
     "output_type": "execute_result"
    }
   ],
   "execution_count": 73
  },
  {
   "metadata": {
    "ExecuteTime": {
     "end_time": "2025-06-01T16:16:05.554594Z",
     "start_time": "2025-06-01T16:13:49.802504Z"
    }
   },
   "cell_type": "code",
   "source": [
    "#72\n",
    "list_72 = [[1], ['a', 'b'], [2.3, 4.5, 6.7]]\n",
    "result_72 = [i for x in list_72 for i in x]\n",
    "result_72"
   ],
   "id": "d14826d9a02795df",
   "outputs": [
    {
     "data": {
      "text/plain": [
       "[1, 'a', 'b', 2.3, 4.5, 6.7]"
      ]
     },
     "execution_count": 74,
     "metadata": {},
     "output_type": "execute_result"
    }
   ],
   "execution_count": 74
  },
  {
   "metadata": {
    "ExecuteTime": {
     "end_time": "2025-06-01T16:16:05.554765Z",
     "start_time": "2025-06-01T16:14:46.578646Z"
    }
   },
   "cell_type": "code",
   "source": [
    "#73\n",
    "keys = ['name', 'age', 'city']\n",
    "values = ['Alice', 30, 'New York']\n",
    "result_73 = dict(zip(keys, values))\n",
    "result_73"
   ],
   "id": "c410444eaf844791",
   "outputs": [
    {
     "data": {
      "text/plain": [
       "{'name': 'Alice', 'age': 30, 'city': 'New York'}"
      ]
     },
     "execution_count": 75,
     "metadata": {},
     "output_type": "execute_result"
    }
   ],
   "execution_count": 75
  },
  {
   "metadata": {
    "ExecuteTime": {
     "end_time": "2025-06-01T16:16:05.554918Z",
     "start_time": "2025-06-01T16:15:31.980349Z"
    }
   },
   "cell_type": "code",
   "source": [
    "#74\n",
    "numbers = [10, 20, 30, 40, 50]\n",
    "print(f\"列表元素的总和是: {sum(numbers)}\")"
   ],
   "id": "5185d18a6bc5a034",
   "outputs": [
    {
     "name": "stdout",
     "output_type": "stream",
     "text": [
      "列表元素的总和是: 150\n"
     ]
    }
   ],
   "execution_count": 77
  },
  {
   "metadata": {},
   "cell_type": "markdown",
   "source": "",
   "id": "eb8a577782cf3d0a"
  }
 ],
 "metadata": {
  "kernelspec": {
   "display_name": "Python 3",
   "language": "python",
   "name": "python3"
  },
  "language_info": {
   "codemirror_mode": {
    "name": "ipython",
    "version": 2
   },
   "file_extension": ".py",
   "mimetype": "text/x-python",
   "name": "python",
   "nbconvert_exporter": "python",
   "pygments_lexer": "ipython2",
   "version": "2.7.6"
  }
 },
 "nbformat": 4,
 "nbformat_minor": 5
}
